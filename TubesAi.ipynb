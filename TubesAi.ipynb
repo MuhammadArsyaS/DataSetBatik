{
  "nbformat": 4,
  "nbformat_minor": 0,
  "metadata": {
    "colab": {
      "name": "TubesAi.ipynb",
      "provenance": [],
      "collapsed_sections": [],
      "authorship_tag": "ABX9TyOqScwXaqQc0Mdct/iKIzTO",
      "include_colab_link": true
    },
    "kernelspec": {
      "name": "python3",
      "display_name": "Python 3"
    },
    "language_info": {
      "name": "python"
    },
    "accelerator": "GPU"
  },
  "cells": [
    {
      "cell_type": "markdown",
      "metadata": {
        "id": "view-in-github",
        "colab_type": "text"
      },
      "source": [
        "<a href=\"https://colab.research.google.com/github/MuhammadArsyaS/DataSetBatik/blob/main/TubesAi.ipynb\" target=\"_parent\"><img src=\"https://colab.research.google.com/assets/colab-badge.svg\" alt=\"Open In Colab\"/></a>"
      ]
    },
    {
      "cell_type": "code",
      "execution_count": 144,
      "metadata": {
        "colab": {
          "base_uri": "https://localhost:8080/"
        },
        "id": "OBd3d7sgFRVv",
        "outputId": "e7a0488b-cde1-4927-da5c-f8c0cfdfcd30"
      },
      "outputs": [
        {
          "output_type": "stream",
          "name": "stdout",
          "text": [
            "--2021-12-31 14:41:54--  https://github.com/Ardian227/Datasetbatik/raw/master/Dataset.zip\n",
            "Resolving github.com (github.com)... 140.82.113.3\n",
            "Connecting to github.com (github.com)|140.82.113.3|:443... connected.\n",
            "HTTP request sent, awaiting response... 302 Found\n",
            "Location: https://raw.githubusercontent.com/Ardian227/Datasetbatik/master/Dataset.zip [following]\n",
            "--2021-12-31 14:41:54--  https://raw.githubusercontent.com/Ardian227/Datasetbatik/master/Dataset.zip\n",
            "Resolving raw.githubusercontent.com (raw.githubusercontent.com)... 185.199.108.133, 185.199.109.133, 185.199.110.133, ...\n",
            "Connecting to raw.githubusercontent.com (raw.githubusercontent.com)|185.199.108.133|:443... connected.\n",
            "HTTP request sent, awaiting response... 200 OK\n",
            "Length: 44472926 (42M) [application/zip]\n",
            "Saving to: ‘/tmp/Dataset.zip’\n",
            "\n",
            "/tmp/Dataset.zip    100%[===================>]  42.41M   165MB/s    in 0.3s    \n",
            "\n",
            "2021-12-31 14:41:55 (165 MB/s) - ‘/tmp/Dataset.zip’ saved [44472926/44472926]\n",
            "\n"
          ]
        }
      ],
      "source": [
        "!wget --no-check-certificate \\\n",
        "    https://github.com/Ardian227/Datasetbatik/raw/master/Dataset.zip \\\n",
        "    -O /tmp/Dataset.zip"
      ]
    },
    {
      "cell_type": "code",
      "source": [
        "# Ekstrak dataset\n",
        "\n",
        "import os\n",
        "import zipfile\n",
        "\n",
        "local_zip = '/tmp/Dataset.zip'\n",
        "zip_ref = zipfile.ZipFile(local_zip, 'r')\n",
        "zip_ref.extractall('/tmp')\n",
        "zip_ref.close()"
      ],
      "metadata": {
        "id": "c2TBw62eFiUU"
      },
      "execution_count": 145,
      "outputs": []
    },
    {
      "cell_type": "code",
      "source": [
        "base_dir = '/tmp/Dataset'\n",
        "\n",
        "train_dir = os.path.join(base_dir, 'Train')\n",
        "val_dir = os.path.join(base_dir, 'Validation')"
      ],
      "metadata": {
        "id": "ZUHST_bFFlMy"
      },
      "execution_count": 146,
      "outputs": []
    },
    {
      "cell_type": "markdown",
      "source": [
        "Validasi\n"
      ],
      "metadata": {
        "id": "cLMhkDxLF27E"
      }
    },
    {
      "cell_type": "code",
      "source": [
        "batikbali_train_path = train_dir + '/BatikBali'\n",
        "batikbetawi_train_path = train_dir + '/BatikBetawi'\n",
        "batikcendrawasih_train_path = train_dir + '/BatikCendrawasih'\n",
        "batikdayak_train_path = train_dir + '/BatikDayak'\n",
        "batikgeblekrenteng_train_path = train_dir + '/BatikGeblekRenteng'\n",
        "batikikatcelup_train_path = train_dir + '/BatikIkatCelup'\n",
        "batikinsang_train_path = train_dir + '/BatikInsang'\n",
        "batikkawung_train_path = train_dir + '/BatikKawung'\n",
        "batiklasem_train_path = train_dir + '/BatikLasem'\n",
        "batikmegamendung_train_path = train_dir + '/BatikMegamendung'\n",
        "batikpala_train_path = train_dir + '/BatikPala'\n",
        "batikparang_train_path = train_dir + '/BatikParang'\n",
        "batikpoleng_train_path = train_dir + '/BatikPoleng'\n",
        "batiksekarjagad_train_path = train_dir + '/BatikSekarJagad'\n",
        "batiktambal_train_path = train_dir + '/BatikTambal'\n",
        "\n",
        "batikbali_val_path = val_dir + '/BatikBali'\n",
        "batikbetawi_val_path = val_dir + '/BatikBetawi'\n",
        "batikcendrawasih_val_path = val_dir + '/BatikCendrawasih'\n",
        "batikdayak_val_path = val_dir + '/BatikDayak'\n",
        "batikgeblekrenteng_val_path = val_dir + '/BatikGeblekRenteng'\n",
        "batikikatcelup_val_path = val_dir + '/BatikIkatCelup'\n",
        "batikinsang_val_path = val_dir + '/BatikInsang'\n",
        "batikkawung_val_path = val_dir + '/BatikKawung'\n",
        "batiklasem_val_path = val_dir + '/BatikLasem'\n",
        "batikmegamendung_val_path = val_dir + '/BatikMegamendung'\n",
        "batikpala_val_path = val_dir + '/BatikPala'\n",
        "batikparang_val_path = val_dir + '/BatikParang'\n",
        "batikpoleng_val_path = val_dir + '/BatikPoleng'\n",
        "batksekarjagad_val_path = val_dir + '/BatikSekarJagad'\n",
        "batiktambal_val_path = val_dir + '/BatikTambal'\n",
        "\n",
        "\n",
        "batikbali_len_train = len(os.listdir(batikbali_train_path))\n",
        "batikbetawi_len_train = len(os.listdir(batikbetawi_train_path))\n",
        "batikcendrawasih_len_train = len(os.listdir(batikcendrawasih_train_path))\n",
        "batikdayak_len_train = len(os.listdir(batikdayak_train_path))\n",
        "batikgeblekrenteng_len_train = len(os.listdir(batikgeblekrenteng_train_path))\n",
        "batikikatcelup_len_train = len(os.listdir(batikikatcelup_train_path))\n",
        "batikinsang_len_train = len(os.listdir(batikinsang_train_path))\n",
        "batikkawung_len_train = len(os.listdir(batikkawung_train_path))\n",
        "batiklasem_len_train = len(os.listdir(batiklasem_train_path))\n",
        "batikmegamendung_len_train = len(os.listdir(batikmegamendung_train_path))\n",
        "batikpala_len_train = len(os.listdir(batikpala_train_path))\n",
        "batikparang_len_train = len(os.listdir(batikparang_train_path))\n",
        "batikpoleng_len_train = len(os.listdir(batikpoleng_train_path))\n",
        "batiksekarjagad_len_train = len(os.listdir(batiksekarjagad_train_path))\n",
        "batiktambal_len_train = len(os.listdir(batiktambal_train_path))\n",
        "\n",
        "batikbali_len_val = len(os.listdir(batikbali_val_path))\n",
        "batikbetawi_len_val = len(os.listdir(batikbali_val_path))\n",
        "batikcendrawasih_len_val = len(os.listdir(batikbali_val_path))\n",
        "batikdayak_len_val = len(os.listdir(batikbali_val_path))\n",
        "batikgeblekrenteng_len_val = len(os.listdir(batikbali_val_path))\n",
        "batikikatcelup_len_val = len(os.listdir(batikbali_val_path))\n",
        "batikinsang_len_val = len(os.listdir(batikbali_val_path))\n",
        "batikkawung_len_val = len(os.listdir(batikbali_val_path))\n",
        "batiklasem_len_val = len(os.listdir(batikbali_val_path))\n",
        "batikmegamendung_len_val = len(os.listdir(batikbali_val_path))\n",
        "batikpala_len_val = len(os.listdir(batikbali_val_path))\n",
        "batikparang_len_val = len(os.listdir(batikbali_val_path))\n",
        "batikpoleng_len_val = len(os.listdir(batikbali_val_path))\n",
        "batiksekarjagad_len_val = len(os.listdir(batikbali_val_path))\n",
        "batiktambal_len_val = len(os.listdir(batikbali_val_path))\n",
        "\n",
        "print(\"jumlah dataset Training : \", batikbali_len_train + batikbetawi_len_train \n",
        "      + batikcendrawasih_len_train + batikdayak_len_train + batikgeblekrenteng_len_train + batikikatcelup_len_train\n",
        "      + batikinsang_len_train + batikkawung_len_train + batiklasem_len_train + batikmegamendung_len_train\n",
        "      + batikpala_len_train + batikparang_len_train + batikpoleng_len_train + batiksekarjagad_len_train\n",
        "      + batiktambal_len_train)\n",
        "\n",
        "print(\"jumlah dataset validasi : \", batikbali_len_val + batikbetawi_len_val \n",
        "      + batikcendrawasih_len_val + batikdayak_len_val + batikgeblekrenteng_len_val + batikikatcelup_len_val\n",
        "      + batikinsang_len_val + batikkawung_len_val + batiklasem_len_val + batikmegamendung_len_val\n",
        "      + batikpala_len_val + batikparang_len_val + batikpoleng_len_val + batiksekarjagad_len_val\n",
        "      + batiktambal_len_val)\n",
        "\n",
        "print(\"\\n\\n\")\n",
        "\n",
        "print(\"jumlah train kelas Batik Bali : \", batikbali_len_train)\n",
        "print(\"jumlah train kelas Batik Betawi : \", batikbetawi_len_train)\n",
        "print(\"jumlah train kelas Batik Cendrawasih : \", batikcendrawasih_len_train)\n",
        "print(\"jumlah train kelas Batik Dayak : \", batikdayak_len_train)\n",
        "print(\"jumlah train kelas Batik Geblek Renteng : \", batikgeblekrenteng_len_train)\n",
        "print(\"jumlah train kelas Batik Ikat Celup : \", batikikatcelup_len_train)\n",
        "print(\"jumlah train kelas Batik Insang : \", batikinsang_len_train)\n",
        "print(\"jumlah train kelas Batik Kawung : \", batikkawung_len_train)\n",
        "print(\"jumlah train kelas Batik Lasem : \", batiklasem_len_train)\n",
        "print(\"jumlah train kelas Batik Megamendung : \", batikmegamendung_len_train)\n",
        "print(\"jumlah train kelas Batik Pala : \", batikpala_len_train)\n",
        "print(\"jumlah train kelas Batik Parang : \", batikparang_len_train)\n",
        "print(\"jumlah train kelas Batik Poleng : \", batikpoleng_len_train)\n",
        "print(\"jumlah train kelas Batik Sekarjagad : \", batiksekarjagad_len_train)\n",
        "print(\"jumlah train kelas Batik Tambal : \", batiktambal_len_train)\n",
        "\n",
        "print(\"jumlah train kelas Batik Bali : \", batikbali_len_val)\n",
        "print(\"jumlah train kelas Batik Betawi : \", batikbetawi_len_val)\n",
        "print(\"jumlah train kelas Batik Cendrawasih : \", batikcendrawasih_len_val)\n",
        "print(\"jumlah train kelas Batik Dayak : \", batikdayak_len_val)\n",
        "print(\"jumlah train kelas Batik Geblek Renteng : \", batikgeblekrenteng_len_val)\n",
        "print(\"jumlah train kelas Batik Ikat Celup : \", batikikatcelup_len_val)\n",
        "print(\"jumlah train kelas Batik Insang : \", batikinsang_len_val)\n",
        "print(\"jumlah train kelas Batik Kawung : \", batikkawung_len_val)\n",
        "print(\"jumlah train kelas Batik Lasem : \", batiklasem_len_val)\n",
        "print(\"jumlah train kelas Batik Megamendung : \", batikmegamendung_len_val)\n",
        "print(\"jumlah train kelas Batik Pala : \", batikpala_len_val)\n",
        "print(\"jumlah train kelas Batik Parang : \", batikparang_len_val)\n",
        "print(\"jumlah train kelas Batik Poleng : \", batikpoleng_len_val)\n",
        "print(\"jumlah train kelas Batik Sekarjagad : \", batiksekarjagad_len_val)\n",
        "print(\"jumlah train kelas Batik Tambal : \", batiktambal_len_val)"
      ],
      "metadata": {
        "colab": {
          "base_uri": "https://localhost:8080/"
        },
        "id": "kxFYJ7JfFryj",
        "outputId": "8efb3f8b-489d-4ee2-ee18-b3ddd9c9c690"
      },
      "execution_count": 147,
      "outputs": [
        {
          "output_type": "stream",
          "name": "stdout",
          "text": [
            "jumlah dataset Training :  1050\n",
            "jumlah dataset validasi :  300\n",
            "\n",
            "\n",
            "\n",
            "jumlah train kelas Batik Bali :  70\n",
            "jumlah train kelas Batik Betawi :  70\n",
            "jumlah train kelas Batik Cendrawasih :  70\n",
            "jumlah train kelas Batik Dayak :  70\n",
            "jumlah train kelas Batik Geblek Renteng :  70\n",
            "jumlah train kelas Batik Ikat Celup :  70\n",
            "jumlah train kelas Batik Insang :  70\n",
            "jumlah train kelas Batik Kawung :  70\n",
            "jumlah train kelas Batik Lasem :  70\n",
            "jumlah train kelas Batik Megamendung :  70\n",
            "jumlah train kelas Batik Pala :  70\n",
            "jumlah train kelas Batik Parang :  70\n",
            "jumlah train kelas Batik Poleng :  70\n",
            "jumlah train kelas Batik Sekarjagad :  70\n",
            "jumlah train kelas Batik Tambal :  70\n",
            "jumlah train kelas Batik Bali :  20\n",
            "jumlah train kelas Batik Betawi :  20\n",
            "jumlah train kelas Batik Cendrawasih :  20\n",
            "jumlah train kelas Batik Dayak :  20\n",
            "jumlah train kelas Batik Geblek Renteng :  20\n",
            "jumlah train kelas Batik Ikat Celup :  20\n",
            "jumlah train kelas Batik Insang :  20\n",
            "jumlah train kelas Batik Kawung :  20\n",
            "jumlah train kelas Batik Lasem :  20\n",
            "jumlah train kelas Batik Megamendung :  20\n",
            "jumlah train kelas Batik Pala :  20\n",
            "jumlah train kelas Batik Parang :  20\n",
            "jumlah train kelas Batik Poleng :  20\n",
            "jumlah train kelas Batik Sekarjagad :  20\n",
            "jumlah train kelas Batik Tambal :  20\n"
          ]
        }
      ]
    },
    {
      "cell_type": "code",
      "source": [
        "import tensorflow as tf\n",
        "from tensorflow.keras.optimizers import Adam\n",
        "from tensorflow.keras.preprocessing.image import ImageDataGenerator\n"
      ],
      "metadata": {
        "id": "00Ykj50pE6XU"
      },
      "execution_count": 148,
      "outputs": []
    },
    {
      "cell_type": "markdown",
      "source": [
        "Augmentasi Dasar"
      ],
      "metadata": {
        "id": "MCbi4m8dXh-I"
      }
    },
    {
      "cell_type": "code",
      "source": [
        "train_datagen = ImageDataGenerator(\n",
        "      rescale=1./255,\n",
        "      rotation_range=40,\n",
        "      width_shift_range=0.2,\n",
        "      height_shift_range=0.2,\n",
        "      shear_range=0.2,\n",
        "      zoom_range=0.2,\n",
        "      horizontal_flip=True,\n",
        "      fill_mode='nearest')\n",
        "\n",
        "test_datagen = ImageDataGenerator(rescale=1./255)\n",
        "\n",
        "train_generator = train_datagen.flow_from_directory(\n",
        "        train_dir,\n",
        "        target_size=(224, 224),\n",
        "        batch_size=35,\n",
        "        class_mode='categorical')\n",
        "\n",
        "validation_generator = test_datagen.flow_from_directory(\n",
        "        val_dir,\n",
        "        target_size=(224, 224),\n",
        "        batch_size=35,\n",
        "        class_mode='categorical')\n"
      ],
      "metadata": {
        "id": "DXKlSdeiV4GG",
        "colab": {
          "base_uri": "https://localhost:8080/"
        },
        "outputId": "3a250748-30cf-4544-971d-4b9339188057"
      },
      "execution_count": 149,
      "outputs": [
        {
          "output_type": "stream",
          "name": "stdout",
          "text": [
            "Found 1050 images belonging to 15 classes.\n",
            "Found 300 images belonging to 15 classes.\n"
          ]
        }
      ]
    },
    {
      "cell_type": "markdown",
      "source": [
        "Augmentasi Model and Fit Model"
      ],
      "metadata": {
        "id": "HVuQ2NVEV_fq"
      }
    },
    {
      "cell_type": "code",
      "source": [
        "'''\n",
        "Import Library yang dibutuhkan\n",
        "'''\n",
        "\n",
        "from tensorflow.keras.models import Sequential\n",
        "from tensorflow.keras.layers import InputLayer, Dense, Flatten,Dropout, BatchNormalization\n",
        "import tensorflow as tf\n",
        "from tensorflow.keras.models import Model\n",
        "from tensorflow.keras.optimizers import Adam\n",
        "from tensorflow.keras.callbacks import EarlyStopping, ModelCheckpoint"
      ],
      "metadata": {
        "id": "s8RfSN0EWBSq"
      },
      "execution_count": 150,
      "outputs": []
    },
    {
      "cell_type": "code",
      "source": [
        "'''\n",
        "definisikan dan setting callback untuk :\n",
        "1. memantau performa model\n",
        "2. melakukan save model terbaik menggunakan model checkpoint\n",
        "3. memberhentikan pelatihan ketika tidak memnuhi syarat dalam parameter earlystopping\n",
        "'''\n",
        "\n",
        "callbacks = EarlyStopping(monitor='val_loss', patience=15, verbose=1, mode='auto')        \n",
        "directory_to_save_best_model_file = '/content/drive/MyDrive/Colab Notebooks/model_drop_batch_weight_from_callback_2.h5'\n",
        "best_model = ModelCheckpoint(directory_to_save_best_model_file, monitor='val_accuracy', verbose = 1, save_best_only = True)"
      ],
      "metadata": {
        "id": "u5ePw1UpWJR0"
      },
      "execution_count": 151,
      "outputs": []
    },
    {
      "cell_type": "code",
      "source": [
        "\n",
        "\n",
        "VGG16_base = tf.keras.applications.VGG16(include_top=False, weights='imagenet', #include_top = false , berarti fully connected layer akan dipidah dari arsitektur\n",
        "                                                 input_tensor=None, input_shape=(224, 224,3))"
      ],
      "metadata": {
        "id": "9G4sEVzkWM5n"
      },
      "execution_count": 152,
      "outputs": []
    },
    {
      "cell_type": "code",
      "source": [
        "'''\n",
        "melakukan setting bahwa model pretrained tidak akan dilatih ulang\n",
        "'''\n",
        "\n",
        "VGG16_base.trainable = False"
      ],
      "metadata": {
        "id": "wonTeajXWXz1"
      },
      "execution_count": 153,
      "outputs": []
    },
    {
      "cell_type": "code",
      "source": [
        "'''\n",
        "mendefinisikan layer pada bagian fully connected layer\n",
        "'''\n",
        "\n",
        "print('Adding new layers')\n",
        "output = VGG16_base.get_layer(index = -1).output  \n",
        "output = Flatten()(output)\n",
        "output = Dense(256,activation = \"relu\")(output)\n",
        "output = BatchNormalization()(output)\n",
        "output = Dropout(0.5)(output)\n",
        "output = Dense(15, activation='softmax')(output) \n",
        "print('New layers Finishing Added!!!!')"
      ],
      "metadata": {
        "id": "3oohNgxMWaH-",
        "colab": {
          "base_uri": "https://localhost:8080/"
        },
        "outputId": "287b8593-fc3d-4270-f301-7fdc74623fbf"
      },
      "execution_count": 154,
      "outputs": [
        {
          "output_type": "stream",
          "name": "stdout",
          "text": [
            "Adding new layers\n",
            "New layers Finishing Added!!!!\n"
          ]
        }
      ]
    },
    {
      "cell_type": "code",
      "source": [
        "VGG16_model = Model(VGG16_base.input, output)\n",
        "\n",
        "VGG16_model.summary()"
      ],
      "metadata": {
        "id": "7pbk_yQMWf8n",
        "colab": {
          "base_uri": "https://localhost:8080/"
        },
        "outputId": "fcfd451f-b1e8-4a31-9e20-2b06a305667e"
      },
      "execution_count": 155,
      "outputs": [
        {
          "output_type": "stream",
          "name": "stdout",
          "text": [
            "Model: \"model_9\"\n",
            "_________________________________________________________________\n",
            " Layer (type)                Output Shape              Param #   \n",
            "=================================================================\n",
            " input_10 (InputLayer)       [(None, 224, 224, 3)]     0         \n",
            "                                                                 \n",
            " block1_conv1 (Conv2D)       (None, 224, 224, 64)      1792      \n",
            "                                                                 \n",
            " block1_conv2 (Conv2D)       (None, 224, 224, 64)      36928     \n",
            "                                                                 \n",
            " block1_pool (MaxPooling2D)  (None, 112, 112, 64)      0         \n",
            "                                                                 \n",
            " block2_conv1 (Conv2D)       (None, 112, 112, 128)     73856     \n",
            "                                                                 \n",
            " block2_conv2 (Conv2D)       (None, 112, 112, 128)     147584    \n",
            "                                                                 \n",
            " block2_pool (MaxPooling2D)  (None, 56, 56, 128)       0         \n",
            "                                                                 \n",
            " block3_conv1 (Conv2D)       (None, 56, 56, 256)       295168    \n",
            "                                                                 \n",
            " block3_conv2 (Conv2D)       (None, 56, 56, 256)       590080    \n",
            "                                                                 \n",
            " block3_conv3 (Conv2D)       (None, 56, 56, 256)       590080    \n",
            "                                                                 \n",
            " block3_pool (MaxPooling2D)  (None, 28, 28, 256)       0         \n",
            "                                                                 \n",
            " block4_conv1 (Conv2D)       (None, 28, 28, 512)       1180160   \n",
            "                                                                 \n",
            " block4_conv2 (Conv2D)       (None, 28, 28, 512)       2359808   \n",
            "                                                                 \n",
            " block4_conv3 (Conv2D)       (None, 28, 28, 512)       2359808   \n",
            "                                                                 \n",
            " block4_pool (MaxPooling2D)  (None, 14, 14, 512)       0         \n",
            "                                                                 \n",
            " block5_conv1 (Conv2D)       (None, 14, 14, 512)       2359808   \n",
            "                                                                 \n",
            " block5_conv2 (Conv2D)       (None, 14, 14, 512)       2359808   \n",
            "                                                                 \n",
            " block5_conv3 (Conv2D)       (None, 14, 14, 512)       2359808   \n",
            "                                                                 \n",
            " block5_pool (MaxPooling2D)  (None, 7, 7, 512)         0         \n",
            "                                                                 \n",
            " flatten_9 (Flatten)         (None, 25088)             0         \n",
            "                                                                 \n",
            " dense_27 (Dense)            (None, 256)               6422784   \n",
            "                                                                 \n",
            " batch_normalization_18 (Bat  (None, 256)              1024      \n",
            " chNormalization)                                                \n",
            "                                                                 \n",
            " dropout_18 (Dropout)        (None, 256)               0         \n",
            "                                                                 \n",
            " dense_28 (Dense)            (None, 15)                3855      \n",
            "                                                                 \n",
            "=================================================================\n",
            "Total params: 21,142,351\n",
            "Trainable params: 6,427,151\n",
            "Non-trainable params: 14,715,200\n",
            "_________________________________________________________________\n"
          ]
        }
      ]
    },
    {
      "cell_type": "code",
      "source": [
        "VGG16_model.compile(optimizer=tf.keras.optimizers.Adam(learning_rate=0.0001), loss='categorical_crossentropy', \n",
        "                        metrics =['accuracy'])"
      ],
      "metadata": {
        "id": "9NRZg6HHWj_7"
      },
      "execution_count": 156,
      "outputs": []
    },
    {
      "cell_type": "code",
      "source": [
        "history = VGG16_model.fit(\n",
        "      train_generator,\n",
        "      steps_per_epoch=30,  # images = batch_size * steps\n",
        "      epochs=100,\n",
        "      validation_data=validation_generator,\n",
        "      validation_steps=9,  #  images = batch_size * steps\n",
        "      callbacks = [callbacks, best_model])"
      ],
      "metadata": {
        "id": "QfxwJpU-WnNs",
        "colab": {
          "base_uri": "https://localhost:8080/"
        },
        "outputId": "513376c7-90ab-471b-aeac-1ebcf85e1683"
      },
      "execution_count": 157,
      "outputs": [
        {
          "output_type": "stream",
          "name": "stdout",
          "text": [
            "Epoch 1/100\n",
            "30/30 [==============================] - ETA: 0s - loss: 2.9189 - accuracy: 0.2105\n",
            "Epoch 00001: val_accuracy improved from -inf to 0.26667, saving model to /content/drive/MyDrive/Colab Notebooks/model_drop_batch_weight_from_callback_2.h5\n",
            "30/30 [==============================] - 33s 681ms/step - loss: 2.9189 - accuracy: 0.2105 - val_loss: 2.2613 - val_accuracy: 0.2667\n",
            "Epoch 2/100\n",
            "30/30 [==============================] - ETA: 0s - loss: 1.9363 - accuracy: 0.4229\n",
            "Epoch 00002: val_accuracy improved from 0.26667 to 0.38333, saving model to /content/drive/MyDrive/Colab Notebooks/model_drop_batch_weight_from_callback_2.h5\n",
            "30/30 [==============================] - 20s 677ms/step - loss: 1.9363 - accuracy: 0.4229 - val_loss: 1.8747 - val_accuracy: 0.3833\n",
            "Epoch 3/100\n",
            "30/30 [==============================] - ETA: 0s - loss: 1.6837 - accuracy: 0.4724\n",
            "Epoch 00003: val_accuracy improved from 0.38333 to 0.45000, saving model to /content/drive/MyDrive/Colab Notebooks/model_drop_batch_weight_from_callback_2.h5\n",
            "30/30 [==============================] - 20s 677ms/step - loss: 1.6837 - accuracy: 0.4724 - val_loss: 1.6981 - val_accuracy: 0.4500\n",
            "Epoch 4/100\n",
            "30/30 [==============================] - ETA: 0s - loss: 1.5544 - accuracy: 0.5133\n",
            "Epoch 00004: val_accuracy improved from 0.45000 to 0.52000, saving model to /content/drive/MyDrive/Colab Notebooks/model_drop_batch_weight_from_callback_2.h5\n",
            "30/30 [==============================] - 21s 698ms/step - loss: 1.5544 - accuracy: 0.5133 - val_loss: 1.5806 - val_accuracy: 0.5200\n",
            "Epoch 5/100\n",
            "30/30 [==============================] - ETA: 0s - loss: 1.3221 - accuracy: 0.5838\n",
            "Epoch 00005: val_accuracy improved from 0.52000 to 0.60333, saving model to /content/drive/MyDrive/Colab Notebooks/model_drop_batch_weight_from_callback_2.h5\n",
            "30/30 [==============================] - 20s 678ms/step - loss: 1.3221 - accuracy: 0.5838 - val_loss: 1.3828 - val_accuracy: 0.6033\n",
            "Epoch 6/100\n",
            "30/30 [==============================] - ETA: 0s - loss: 1.2719 - accuracy: 0.6133\n",
            "Epoch 00006: val_accuracy did not improve from 0.60333\n",
            "30/30 [==============================] - 20s 663ms/step - loss: 1.2719 - accuracy: 0.6133 - val_loss: 1.3842 - val_accuracy: 0.5800\n",
            "Epoch 7/100\n",
            "30/30 [==============================] - ETA: 0s - loss: 1.2051 - accuracy: 0.6352\n",
            "Epoch 00007: val_accuracy did not improve from 0.60333\n",
            "30/30 [==============================] - 20s 665ms/step - loss: 1.2051 - accuracy: 0.6352 - val_loss: 1.3594 - val_accuracy: 0.5967\n",
            "Epoch 8/100\n",
            "30/30 [==============================] - ETA: 0s - loss: 1.1328 - accuracy: 0.6543\n",
            "Epoch 00008: val_accuracy improved from 0.60333 to 0.62333, saving model to /content/drive/MyDrive/Colab Notebooks/model_drop_batch_weight_from_callback_2.h5\n",
            "30/30 [==============================] - 20s 679ms/step - loss: 1.1328 - accuracy: 0.6543 - val_loss: 1.2665 - val_accuracy: 0.6233\n",
            "Epoch 9/100\n",
            "30/30 [==============================] - ETA: 0s - loss: 1.0810 - accuracy: 0.6619\n",
            "Epoch 00009: val_accuracy did not improve from 0.62333\n",
            "30/30 [==============================] - 21s 685ms/step - loss: 1.0810 - accuracy: 0.6619 - val_loss: 1.2606 - val_accuracy: 0.6200\n",
            "Epoch 10/100\n",
            "30/30 [==============================] - ETA: 0s - loss: 1.0089 - accuracy: 0.7010\n",
            "Epoch 00010: val_accuracy improved from 0.62333 to 0.63333, saving model to /content/drive/MyDrive/Colab Notebooks/model_drop_batch_weight_from_callback_2.h5\n",
            "30/30 [==============================] - 20s 677ms/step - loss: 1.0089 - accuracy: 0.7010 - val_loss: 1.2089 - val_accuracy: 0.6333\n",
            "Epoch 11/100\n",
            "30/30 [==============================] - ETA: 0s - loss: 0.9750 - accuracy: 0.6924\n",
            "Epoch 00011: val_accuracy improved from 0.63333 to 0.64000, saving model to /content/drive/MyDrive/Colab Notebooks/model_drop_batch_weight_from_callback_2.h5\n",
            "30/30 [==============================] - 20s 678ms/step - loss: 0.9750 - accuracy: 0.6924 - val_loss: 1.1848 - val_accuracy: 0.6400\n",
            "Epoch 12/100\n",
            "30/30 [==============================] - ETA: 0s - loss: 0.9327 - accuracy: 0.7095\n",
            "Epoch 00012: val_accuracy did not improve from 0.64000\n",
            "30/30 [==============================] - 20s 666ms/step - loss: 0.9327 - accuracy: 0.7095 - val_loss: 1.2334 - val_accuracy: 0.6100\n",
            "Epoch 13/100\n",
            "30/30 [==============================] - ETA: 0s - loss: 0.8919 - accuracy: 0.7171\n",
            "Epoch 00013: val_accuracy did not improve from 0.64000\n",
            "30/30 [==============================] - 20s 665ms/step - loss: 0.8919 - accuracy: 0.7171 - val_loss: 1.2293 - val_accuracy: 0.6367\n",
            "Epoch 14/100\n",
            "30/30 [==============================] - ETA: 0s - loss: 0.9120 - accuracy: 0.7152\n",
            "Epoch 00014: val_accuracy did not improve from 0.64000\n",
            "30/30 [==============================] - 20s 665ms/step - loss: 0.9120 - accuracy: 0.7152 - val_loss: 1.2155 - val_accuracy: 0.6367\n",
            "Epoch 15/100\n",
            "30/30 [==============================] - ETA: 0s - loss: 0.8388 - accuracy: 0.7276\n",
            "Epoch 00015: val_accuracy did not improve from 0.64000\n",
            "30/30 [==============================] - 20s 665ms/step - loss: 0.8388 - accuracy: 0.7276 - val_loss: 1.4462 - val_accuracy: 0.6033\n",
            "Epoch 16/100\n",
            "30/30 [==============================] - ETA: 0s - loss: 0.8656 - accuracy: 0.7248\n",
            "Epoch 00016: val_accuracy improved from 0.64000 to 0.67000, saving model to /content/drive/MyDrive/Colab Notebooks/model_drop_batch_weight_from_callback_2.h5\n",
            "30/30 [==============================] - 21s 681ms/step - loss: 0.8656 - accuracy: 0.7248 - val_loss: 1.2049 - val_accuracy: 0.6700\n",
            "Epoch 17/100\n",
            "30/30 [==============================] - ETA: 0s - loss: 0.8001 - accuracy: 0.7352\n",
            "Epoch 00017: val_accuracy did not improve from 0.67000\n",
            "30/30 [==============================] - 20s 666ms/step - loss: 0.8001 - accuracy: 0.7352 - val_loss: 1.1706 - val_accuracy: 0.6667\n",
            "Epoch 18/100\n",
            "30/30 [==============================] - ETA: 0s - loss: 0.7913 - accuracy: 0.7514\n",
            "Epoch 00018: val_accuracy did not improve from 0.67000\n",
            "30/30 [==============================] - 20s 666ms/step - loss: 0.7913 - accuracy: 0.7514 - val_loss: 1.1837 - val_accuracy: 0.6367\n",
            "Epoch 19/100\n",
            "30/30 [==============================] - ETA: 0s - loss: 0.7353 - accuracy: 0.7733\n",
            "Epoch 00019: val_accuracy did not improve from 0.67000\n",
            "30/30 [==============================] - 20s 664ms/step - loss: 0.7353 - accuracy: 0.7733 - val_loss: 1.2482 - val_accuracy: 0.6500\n",
            "Epoch 20/100\n",
            "30/30 [==============================] - ETA: 0s - loss: 0.7449 - accuracy: 0.7705\n",
            "Epoch 00020: val_accuracy did not improve from 0.67000\n",
            "30/30 [==============================] - 20s 664ms/step - loss: 0.7449 - accuracy: 0.7705 - val_loss: 1.2996 - val_accuracy: 0.6267\n",
            "Epoch 21/100\n",
            "30/30 [==============================] - ETA: 0s - loss: 0.6561 - accuracy: 0.8038\n",
            "Epoch 00021: val_accuracy did not improve from 0.67000\n",
            "30/30 [==============================] - 20s 663ms/step - loss: 0.6561 - accuracy: 0.8038 - val_loss: 1.2121 - val_accuracy: 0.6533\n",
            "Epoch 22/100\n",
            "30/30 [==============================] - ETA: 0s - loss: 0.6657 - accuracy: 0.7990\n",
            "Epoch 00022: val_accuracy did not improve from 0.67000\n",
            "30/30 [==============================] - 20s 665ms/step - loss: 0.6657 - accuracy: 0.7990 - val_loss: 1.2177 - val_accuracy: 0.6533\n",
            "Epoch 23/100\n",
            "30/30 [==============================] - ETA: 0s - loss: 0.7027 - accuracy: 0.7590\n",
            "Epoch 00023: val_accuracy improved from 0.67000 to 0.67333, saving model to /content/drive/MyDrive/Colab Notebooks/model_drop_batch_weight_from_callback_2.h5\n",
            "30/30 [==============================] - 20s 678ms/step - loss: 0.7027 - accuracy: 0.7590 - val_loss: 1.1792 - val_accuracy: 0.6733\n",
            "Epoch 24/100\n",
            "30/30 [==============================] - ETA: 0s - loss: 0.6450 - accuracy: 0.7981\n",
            "Epoch 00024: val_accuracy did not improve from 0.67333\n",
            "30/30 [==============================] - 20s 660ms/step - loss: 0.6450 - accuracy: 0.7981 - val_loss: 1.2846 - val_accuracy: 0.6133\n",
            "Epoch 25/100\n",
            "30/30 [==============================] - ETA: 0s - loss: 0.6372 - accuracy: 0.8019\n",
            "Epoch 00025: val_accuracy did not improve from 0.67333\n",
            "30/30 [==============================] - 20s 660ms/step - loss: 0.6372 - accuracy: 0.8019 - val_loss: 1.2145 - val_accuracy: 0.6500\n",
            "Epoch 26/100\n",
            "30/30 [==============================] - ETA: 0s - loss: 0.6578 - accuracy: 0.7943\n",
            "Epoch 00026: val_accuracy did not improve from 0.67333\n",
            "30/30 [==============================] - 20s 660ms/step - loss: 0.6578 - accuracy: 0.7943 - val_loss: 1.2579 - val_accuracy: 0.6400\n",
            "Epoch 27/100\n",
            "30/30 [==============================] - ETA: 0s - loss: 0.6024 - accuracy: 0.8248\n",
            "Epoch 00027: val_accuracy did not improve from 0.67333\n",
            "30/30 [==============================] - 20s 661ms/step - loss: 0.6024 - accuracy: 0.8248 - val_loss: 1.2477 - val_accuracy: 0.6467\n",
            "Epoch 28/100\n",
            "30/30 [==============================] - ETA: 0s - loss: 0.6178 - accuracy: 0.8124\n",
            "Epoch 00028: val_accuracy did not improve from 0.67333\n",
            "30/30 [==============================] - 20s 662ms/step - loss: 0.6178 - accuracy: 0.8124 - val_loss: 1.2039 - val_accuracy: 0.6367\n",
            "Epoch 29/100\n",
            "30/30 [==============================] - ETA: 0s - loss: 0.5638 - accuracy: 0.8229\n",
            "Epoch 00029: val_accuracy improved from 0.67333 to 0.68333, saving model to /content/drive/MyDrive/Colab Notebooks/model_drop_batch_weight_from_callback_2.h5\n",
            "30/30 [==============================] - 20s 677ms/step - loss: 0.5638 - accuracy: 0.8229 - val_loss: 1.1597 - val_accuracy: 0.6833\n",
            "Epoch 30/100\n",
            "30/30 [==============================] - ETA: 0s - loss: 0.5888 - accuracy: 0.8124\n",
            "Epoch 00030: val_accuracy did not improve from 0.68333\n",
            "30/30 [==============================] - 20s 661ms/step - loss: 0.5888 - accuracy: 0.8124 - val_loss: 1.1941 - val_accuracy: 0.6600\n",
            "Epoch 31/100\n",
            "30/30 [==============================] - ETA: 0s - loss: 0.5522 - accuracy: 0.8295\n",
            "Epoch 00031: val_accuracy did not improve from 0.68333\n",
            "30/30 [==============================] - 20s 662ms/step - loss: 0.5522 - accuracy: 0.8295 - val_loss: 1.2960 - val_accuracy: 0.6533\n",
            "Epoch 32/100\n",
            "30/30 [==============================] - ETA: 0s - loss: 0.5081 - accuracy: 0.8429\n",
            "Epoch 00032: val_accuracy did not improve from 0.68333\n",
            "30/30 [==============================] - 20s 662ms/step - loss: 0.5081 - accuracy: 0.8429 - val_loss: 1.2074 - val_accuracy: 0.6733\n",
            "Epoch 33/100\n",
            "30/30 [==============================] - ETA: 0s - loss: 0.5313 - accuracy: 0.8305\n",
            "Epoch 00033: val_accuracy did not improve from 0.68333\n",
            "30/30 [==============================] - 20s 663ms/step - loss: 0.5313 - accuracy: 0.8305 - val_loss: 1.2046 - val_accuracy: 0.6733\n",
            "Epoch 34/100\n",
            "30/30 [==============================] - ETA: 0s - loss: 0.5242 - accuracy: 0.8371\n",
            "Epoch 00034: val_accuracy did not improve from 0.68333\n",
            "30/30 [==============================] - 20s 661ms/step - loss: 0.5242 - accuracy: 0.8371 - val_loss: 1.2544 - val_accuracy: 0.6500\n",
            "Epoch 35/100\n",
            "30/30 [==============================] - ETA: 0s - loss: 0.5106 - accuracy: 0.8410\n",
            "Epoch 00035: val_accuracy did not improve from 0.68333\n",
            "30/30 [==============================] - 20s 663ms/step - loss: 0.5106 - accuracy: 0.8410 - val_loss: 1.2645 - val_accuracy: 0.6433\n",
            "Epoch 36/100\n",
            "30/30 [==============================] - ETA: 0s - loss: 0.5090 - accuracy: 0.8352\n",
            "Epoch 00036: val_accuracy did not improve from 0.68333\n",
            "30/30 [==============================] - 20s 662ms/step - loss: 0.5090 - accuracy: 0.8352 - val_loss: 1.2348 - val_accuracy: 0.6533\n",
            "Epoch 37/100\n",
            "30/30 [==============================] - ETA: 0s - loss: 0.4916 - accuracy: 0.8610\n",
            "Epoch 00037: val_accuracy did not improve from 0.68333\n",
            "30/30 [==============================] - 20s 663ms/step - loss: 0.4916 - accuracy: 0.8610 - val_loss: 1.1927 - val_accuracy: 0.6667\n",
            "Epoch 38/100\n",
            "30/30 [==============================] - ETA: 0s - loss: 0.4753 - accuracy: 0.8676\n",
            "Epoch 00038: val_accuracy did not improve from 0.68333\n",
            "30/30 [==============================] - 20s 667ms/step - loss: 0.4753 - accuracy: 0.8676 - val_loss: 1.2455 - val_accuracy: 0.6533\n",
            "Epoch 39/100\n",
            "30/30 [==============================] - ETA: 0s - loss: 0.4592 - accuracy: 0.8590\n",
            "Epoch 00039: val_accuracy did not improve from 0.68333\n",
            "30/30 [==============================] - 20s 661ms/step - loss: 0.4592 - accuracy: 0.8590 - val_loss: 1.2079 - val_accuracy: 0.6600\n",
            "Epoch 40/100\n",
            "30/30 [==============================] - ETA: 0s - loss: 0.4334 - accuracy: 0.8733\n",
            "Epoch 00040: val_accuracy improved from 0.68333 to 0.69333, saving model to /content/drive/MyDrive/Colab Notebooks/model_drop_batch_weight_from_callback_2.h5\n",
            "30/30 [==============================] - 20s 671ms/step - loss: 0.4334 - accuracy: 0.8733 - val_loss: 1.1653 - val_accuracy: 0.6933\n",
            "Epoch 41/100\n",
            "30/30 [==============================] - ETA: 0s - loss: 0.4575 - accuracy: 0.8600\n",
            "Epoch 00041: val_accuracy did not improve from 0.69333\n",
            "30/30 [==============================] - 20s 663ms/step - loss: 0.4575 - accuracy: 0.8600 - val_loss: 1.1832 - val_accuracy: 0.6767\n",
            "Epoch 42/100\n",
            "30/30 [==============================] - ETA: 0s - loss: 0.4644 - accuracy: 0.8581\n",
            "Epoch 00042: val_accuracy did not improve from 0.69333\n",
            "30/30 [==============================] - 20s 660ms/step - loss: 0.4644 - accuracy: 0.8581 - val_loss: 1.2682 - val_accuracy: 0.6433\n",
            "Epoch 43/100\n",
            "30/30 [==============================] - ETA: 0s - loss: 0.4533 - accuracy: 0.8533\n",
            "Epoch 00043: val_accuracy did not improve from 0.69333\n",
            "30/30 [==============================] - 20s 661ms/step - loss: 0.4533 - accuracy: 0.8533 - val_loss: 1.2966 - val_accuracy: 0.6500\n",
            "Epoch 44/100\n",
            "30/30 [==============================] - ETA: 0s - loss: 0.4270 - accuracy: 0.8695\n",
            "Epoch 00044: val_accuracy did not improve from 0.69333\n",
            "30/30 [==============================] - 20s 657ms/step - loss: 0.4270 - accuracy: 0.8695 - val_loss: 1.2537 - val_accuracy: 0.6767\n",
            "Epoch 00044: early stopping\n"
          ]
        }
      ]
    },
    {
      "cell_type": "markdown",
      "source": [
        "**MODEL EVALUATION**"
      ],
      "metadata": {
        "id": "3SiPCziLWusi"
      }
    },
    {
      "cell_type": "code",
      "source": [
        "import matplotlib.pyplot as plt\n",
        "acc = history.history['accuracy']\n",
        "val_acc = history.history['val_accuracy']\n",
        "loss = history.history['loss']\n",
        "val_loss = history.history['val_loss']\n",
        "\n",
        "epochs = range(len(acc))\n",
        "\n",
        "plt.plot(epochs, acc, 'bo', label='Training accuracy')\n",
        "plt.plot(epochs, val_acc, 'b', label='Validation accuracy')\n",
        "plt.title('Training and validation accuracy')\n",
        "\n",
        "plt.figure()\n",
        "\n",
        "plt.plot(epochs, loss, 'bo', label='Training Loss')\n",
        "plt.plot(epochs, val_loss, 'b', label='Validation Loss')\n",
        "plt.title('Training and validation loss')\n",
        "plt.legend()\n",
        "\n",
        "plt.show()"
      ],
      "metadata": {
        "id": "c8QH-Z-IW4h9",
        "colab": {
          "base_uri": "https://localhost:8080/",
          "height": 551
        },
        "outputId": "2aab451d-3cae-4a1c-a366-652c14c01b60"
      },
      "execution_count": 158,
      "outputs": [
        {
          "output_type": "display_data",
          "data": {
            "image/png": "[encoded data removed]",
            "text/plain": [
              "<Figure size 432x288 with 1 Axes>"
            ]
          },
          "metadata": {}
        },
        {
          "output_type": "display_data",
          "data": {
            "image/png": "[encoded data removed]",
            "text/plain": [
              "<Figure size 432x288 with 1 Axes>"
            ]
          },
          "metadata": {}
        }
      ]
    },
    {
      "cell_type": "code",
      "source": [
        "# import some of library that we need to look the confusion matrix, recall, f1_score, and accuracy score to look how much your model is well\n",
        "import numpy as np \n",
        "from keras.preprocessing.image import ImageDataGenerator\n",
        "import matplotlib.pyplot as plt\n",
        "from sklearn.metrics import f1_score, recall_score, accuracy_score\n",
        "from sklearn.metrics import precision_score, confusion_matrix, classification_report\n",
        "from sklearn import metrics\n",
        "\n",
        "import seaborn as sns\n",
        "sns.set(style='whitegrid')"
      ],
      "metadata": {
        "id": "RO-3y88RW7o-"
      },
      "execution_count": 159,
      "outputs": []
    },
    {
      "cell_type": "code",
      "source": [
        "# loading model to evaluate more depth\n",
        "from keras.models import load_model\n",
        "model_path = '/content/drive/MyDrive/Colab Notebooks/model_drop_batch_weight_from_callback_2.h5'\n",
        "model = load_model(model_path)"
      ],
      "metadata": {
        "id": "BhuzHvKIW9bY"
      },
      "execution_count": 160,
      "outputs": []
    },
    {
      "cell_type": "code",
      "source": [
        "def my_metrics(y_true, y_pred):\n",
        "    accuracy=accuracy_score(y_true, y_pred)\n",
        "    precision=precision_score(y_true, y_pred,average='weighted')\n",
        "    f1Score=f1_score(y_true, y_pred, average='weighted') \n",
        "    print(\"Accuracy  : {}\".format(accuracy))\n",
        "    print(\"Precision : {}\".format(precision))\n",
        "    print(\"f1Score : {}\".format(f1Score))\n",
        "    cm=confusion_matrix(y_true, y_pred)\n",
        "    print(cm)\n",
        "    return accuracy, precision, f1Score\n",
        "\n",
        "height=224; width=224\n",
        "batch_size=35\n",
        "\n",
        "test_datagen = ImageDataGenerator(rescale=1./255)\n",
        "\n",
        "TESTING_DIR = '/tmp/Dataset/Validation'\n",
        "\n",
        "test_generator = test_datagen.flow_from_directory(TESTING_DIR,\n",
        "                                                  batch_size=batch_size,                                                             \n",
        "                                                  target_size=(height, width),\n",
        "                                                  class_mode= None,\n",
        "                                                  shuffle=False\n",
        "                                                  )\n",
        "\n",
        "predictions = model.predict(test_generator, verbose=1)\n",
        "yPredictions = np.argmax(predictions, axis=1)\n",
        "true_classes = test_generator.classes\n",
        "class_names = test_generator.class_indices\n",
        "Cmatrix_test = confusion_matrix(true_classes, yPredictions)\n",
        "\n",
        "testAcc,testPrec, testFScore = my_metrics(true_classes, yPredictions)\n",
        "\n",
        "plt.figure(figsize=(20,20))\n",
        "ax= plt.subplot()\n",
        "data = np.asarray(Cmatrix_test).reshape(15,15)\n",
        "sns.heatmap(data,annot=True, fmt='',ax=ax, cmap=plt.cm.Reds)\n",
        "ax.set_xlabel('Predicted labels')\n",
        "ax.set_ylabel('True labels') \n",
        "ax.set_title('Confusion Matrix')\n",
        "ax.xaxis.set_ticklabels(class_names)   \n",
        "ax.yaxis.set_ticklabels(class_names)\n",
        "plt.title('Confusion Matrix Test',fontsize=14)\n",
        "plt.show()"
      ],
      "metadata": {
        "id": "o0uW64wUW_HA",
        "colab": {
          "base_uri": "https://localhost:8080/",
          "height": 1000
        },
        "outputId": "dd97cc86-999d-4930-f1e3-a2a2a64bcc68"
      },
      "execution_count": 161,
      "outputs": [
        {
          "output_type": "stream",
          "name": "stdout",
          "text": [
            "Found 300 images belonging to 15 classes.\n",
            "9/9 [==============================] - 3s 318ms/step\n",
            "Accuracy  : 0.6933333333333334\n",
            "Precision : 0.6913180745086116\n",
            "f1Score : 0.6850843564890321\n",
            "[[ 7  1  3  4  0  0  0  0  2  0  1  0  0  2  0]\n",
            " [ 0 13  0  0  1  0  2  0  1  1  2  0  0  0  0]\n",
            " [ 2  0 12  3  0  0  0  0  2  0  1  0  0  0  0]\n",
            " [ 0  1  0 18  1  0  0  0  0  0  0  0  0  0  0]\n",
            " [ 0  2  0  2  8  5  2  0  1  0  0  0  0  0  0]\n",
            " [ 1  0  0  0  0 16  2  0  0  0  0  0  0  1  0]\n",
            " [ 0  1  0  1  0  0 17  0  0  0  0  0  1  0  0]\n",
            " [ 0  0  0  0  1  0  0 17  0  0  0  0  0  1  1]\n",
            " [ 1  3  1  1  0  0  0  1  7  0  2  0  0  3  1]\n",
            " [ 0  0  0  0  0  0  0  0  0 20  0  0  0  0  0]\n",
            " [ 1  3  1  1  2  0  0  0  1  0  9  1  0  1  0]\n",
            " [ 0  0  0  0  0  0  0  0  1  1  0 16  0  1  1]\n",
            " [ 0  0  0  0  0  0  0  0  0  0  0  0 19  0  1]\n",
            " [ 1  0  1  0  0  0  0  1  1  0  1  0  0 15  0]\n",
            " [ 0  0  0  0  1  0  0  1  0  0  1  0  0  3 14]]\n"
          ]
        },
        {
          "output_type": "display_data",
          "data": {
            "image/png": "[encoded data removed]",
            "text/plain": [
              "<Figure size 1440x1440 with 2 Axes>"
            ]
          },
          "metadata": {}
        }
      ]
    },
    {
      "cell_type": "code",
      "source": [
        "from sklearn.metrics import classification_report\n",
        "print(classification_report(true_classes, yPredictions, target_names=class_names))"
      ],
      "metadata": {
        "id": "LNGUToU_XDj0",
        "colab": {
          "base_uri": "https://localhost:8080/"
        },
        "outputId": "6a396b34-35d3-4256-cd04-0997c365d2e2"
      },
      "execution_count": 162,
      "outputs": [
        {
          "output_type": "stream",
          "name": "stdout",
          "text": [
            "                    precision    recall  f1-score   support\n",
            "\n",
            "         BatikBali       0.54      0.35      0.42        20\n",
            "       BatikBetawi       0.54      0.65      0.59        20\n",
            "  BatikCendrawasih       0.67      0.60      0.63        20\n",
            "        BatikDayak       0.60      0.90      0.72        20\n",
            "BatikGeblekRenteng       0.57      0.40      0.47        20\n",
            "   BatikIkat Celup       0.76      0.80      0.78        20\n",
            "       BatikInsang       0.74      0.85      0.79        20\n",
            "       BatikKawung       0.85      0.85      0.85        20\n",
            "        BatikLasem       0.44      0.35      0.39        20\n",
            "  BatikMegamendung       0.91      1.00      0.95        20\n",
            "         BatikPala       0.53      0.45      0.49        20\n",
            "       BatikParang       0.94      0.80      0.86        20\n",
            "       BatikPoleng       0.95      0.95      0.95        20\n",
            "   BatikSekarJagad       0.56      0.75      0.64        20\n",
            "       BatikTambal       0.78      0.70      0.74        20\n",
            "\n",
            "          accuracy                           0.69       300\n",
            "         macro avg       0.69      0.69      0.69       300\n",
            "      weighted avg       0.69      0.69      0.69       300\n",
            "\n"
          ]
        }
      ]
    }
  ]
}