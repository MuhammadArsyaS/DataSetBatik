{
  "nbformat": 4,
  "nbformat_minor": 0,
  "metadata": {
    "colab": {
      "name": "TubesAi.ipynb",
      "provenance": [],
      "collapsed_sections": [],
      "authorship_tag": "ABX9TyOfkbzfcGR41iCzioog7vuD",
      "include_colab_link": true
    },
    "kernelspec": {
      "name": "python3",
      "display_name": "Python 3"
    },
    "language_info": {
      "name": "python"
    },
    "accelerator": "GPU"
  },
  "cells": [
    {
      "cell_type": "markdown",
      "metadata": {
        "id": "view-in-github",
        "colab_type": "text"
      },
      "source": [
        "<a href=\"https://colab.research.google.com/github/MuhammadArsyaS/DataSetBatik/blob/main/TubesAi.ipynb\" target=\"_parent\"><img src=\"https://colab.research.google.com/assets/colab-badge.svg\" alt=\"Open In Colab\"/></a>"
      ]
    },
    {
      "cell_type": "code",
      "execution_count": 84,
      "metadata": {
        "colab": {
          "base_uri": "https://localhost:8080/"
        },
        "id": "OBd3d7sgFRVv",
        "outputId": "428f81d2-1f57-42fd-aded-d3afa37e3286"
      },
      "outputs": [
        {
          "output_type": "stream",
          "name": "stdout",
          "text": [
            "--2021-12-31 13:27:11--  https://github.com/Ardian227/Datasetbatik/raw/master/Dataset.zip\n",
            "Resolving github.com (github.com)... 140.82.112.3\n",
            "Connecting to github.com (github.com)|140.82.112.3|:443... connected.\n",
            "HTTP request sent, awaiting response... 302 Found\n",
            "Location: https://raw.githubusercontent.com/Ardian227/Datasetbatik/master/Dataset.zip [following]\n",
            "--2021-12-31 13:27:11--  https://raw.githubusercontent.com/Ardian227/Datasetbatik/master/Dataset.zip\n",
            "Resolving raw.githubusercontent.com (raw.githubusercontent.com)... 185.199.109.133, 185.199.111.133, 185.199.108.133, ...\n",
            "Connecting to raw.githubusercontent.com (raw.githubusercontent.com)|185.199.109.133|:443... connected.\n",
            "HTTP request sent, awaiting response... 200 OK\n",
            "Length: 44472926 (42M) [application/zip]\n",
            "Saving to: ‘/tmp/Dataset.zip’\n",
            "\n",
            "/tmp/Dataset.zip    100%[===================>]  42.41M  40.3MB/s    in 1.1s    \n",
            "\n",
            "2021-12-31 13:27:12 (40.3 MB/s) - ‘/tmp/Dataset.zip’ saved [44472926/44472926]\n",
            "\n"
          ]
        }
      ],
      "source": [
        "!wget --no-check-certificate \\\n",
        "    https://github.com/Ardian227/Datasetbatik/raw/master/Dataset.zip \\\n",
        "    -O /tmp/Dataset.zip"
      ]
    },
    {
      "cell_type": "code",
      "source": [
        "# Ekstrak dataset\n",
        "\n",
        "import os\n",
        "import zipfile\n",
        "\n",
        "local_zip = '/tmp/Dataset.zip'\n",
        "zip_ref = zipfile.ZipFile(local_zip, 'r')\n",
        "zip_ref.extractall('/tmp')\n",
        "zip_ref.close()"
      ],
      "metadata": {
        "id": "c2TBw62eFiUU"
      },
      "execution_count": 85,
      "outputs": []
    },
    {
      "cell_type": "code",
      "source": [
        "base_dir = '/tmp/Dataset'\n",
        "\n",
        "train_dir = os.path.join(base_dir, 'Train')\n",
        "val_dir = os.path.join(base_dir, 'Validation')"
      ],
      "metadata": {
        "id": "ZUHST_bFFlMy"
      },
      "execution_count": 86,
      "outputs": []
    },
    {
      "cell_type": "markdown",
      "source": [
        "Validasi\n"
      ],
      "metadata": {
        "id": "cLMhkDxLF27E"
      }
    },
    {
      "cell_type": "code",
      "source": [
        "batikbali_train_path = train_dir + '/BatikBali'\n",
        "batikbetawi_train_path = train_dir + '/BatikBetawi'\n",
        "batikcendrawasih_train_path = train_dir + '/BatikCendrawasih'\n",
        "batikdayak_train_path = train_dir + '/BatikDayak'\n",
        "batikgeblekrenteng_train_path = train_dir + '/BatikGeblekRenteng'\n",
        "batikikatcelup_train_path = train_dir + '/BatikIkatCelup'\n",
        "batikinsang_train_path = train_dir + '/BatikInsang'\n",
        "batikkawung_train_path = train_dir + '/BatikKawung'\n",
        "batiklasem_train_path = train_dir + '/BatikLasem'\n",
        "batikmegamendung_train_path = train_dir + '/BatikMegamendung'\n",
        "batikpala_train_path = train_dir + '/BatikPala'\n",
        "batikparang_train_path = train_dir + '/BatikParang'\n",
        "batikpoleng_train_path = train_dir + '/BatikPoleng'\n",
        "batiksekarjagad_train_path = train_dir + '/BatikSekarJagad'\n",
        "batiktambal_train_path = train_dir + '/BatikTambal'\n",
        "\n",
        "batikbali_val_path = val_dir + '/BatikBali'\n",
        "batikbetawi_val_path = val_dir + '/BatikBetawi'\n",
        "batikcendrawasih_val_path = val_dir + '/BatikCendrawasih'\n",
        "batikdayak_val_path = val_dir + '/BatikDayak'\n",
        "batikgeblekrenteng_val_path = val_dir + '/BatikGeblekRenteng'\n",
        "batikikatcelup_val_path = val_dir + '/BatikIkatCelup'\n",
        "batikinsang_val_path = val_dir + '/BatikInsang'\n",
        "batikkawung_val_path = val_dir + '/BatikKawung'\n",
        "batiklasem_val_path = val_dir + '/BatikLasem'\n",
        "batikmegamendung_val_path = val_dir + '/BatikMegamendung'\n",
        "batikpala_val_path = val_dir + '/BatikPala'\n",
        "batikparang_val_path = val_dir + '/BatikParang'\n",
        "batikpoleng_val_path = val_dir + '/BatikPoleng'\n",
        "batksekarjagad_val_path = val_dir + '/BatikSekarJagad'\n",
        "batiktambal_val_path = val_dir + '/BatikTambal'\n",
        "\n",
        "\n",
        "batikbali_len_train = len(os.listdir(batikbali_train_path))\n",
        "batikbetawi_len_train = len(os.listdir(batikbetawi_train_path))\n",
        "batikcendrawasih_len_train = len(os.listdir(batikcendrawasih_train_path))\n",
        "batikdayak_len_train = len(os.listdir(batikdayak_train_path))\n",
        "batikgeblekrenteng_len_train = len(os.listdir(batikgeblekrenteng_train_path))\n",
        "batikikatcelup_len_train = len(os.listdir(batikikatcelup_train_path))\n",
        "batikinsang_len_train = len(os.listdir(batikinsang_train_path))\n",
        "batikkawung_len_train = len(os.listdir(batikkawung_train_path))\n",
        "batiklasem_len_train = len(os.listdir(batiklasem_train_path))\n",
        "batikmegamendung_len_train = len(os.listdir(batikmegamendung_train_path))\n",
        "batikpala_len_train = len(os.listdir(batikpala_train_path))\n",
        "batikparang_len_train = len(os.listdir(batikparang_train_path))\n",
        "batikpoleng_len_train = len(os.listdir(batikpoleng_train_path))\n",
        "batiksekarjagad_len_train = len(os.listdir(batiksekarjagad_train_path))\n",
        "batiktambal_len_train = len(os.listdir(batiktambal_train_path))\n",
        "\n",
        "batikbali_len_val = len(os.listdir(batikbali_val_path))\n",
        "batikbetawi_len_val = len(os.listdir(batikbali_val_path))\n",
        "batikcendrawasih_len_val = len(os.listdir(batikbali_val_path))\n",
        "batikdayak_len_val = len(os.listdir(batikbali_val_path))\n",
        "batikgeblekrenteng_len_val = len(os.listdir(batikbali_val_path))\n",
        "batikikatcelup_len_val = len(os.listdir(batikbali_val_path))\n",
        "batikinsang_len_val = len(os.listdir(batikbali_val_path))\n",
        "batikkawung_len_val = len(os.listdir(batikbali_val_path))\n",
        "batiklasem_len_val = len(os.listdir(batikbali_val_path))\n",
        "batikmegamendung_len_val = len(os.listdir(batikbali_val_path))\n",
        "batikpala_len_val = len(os.listdir(batikbali_val_path))\n",
        "batikparang_len_val = len(os.listdir(batikbali_val_path))\n",
        "batikpoleng_len_val = len(os.listdir(batikbali_val_path))\n",
        "batiksekarjagad_len_val = len(os.listdir(batikbali_val_path))\n",
        "batiktambal_len_val = len(os.listdir(batikbali_val_path))\n",
        "\n",
        "print(\"jumlah dataset Training : \", batikbali_len_train + batikbetawi_len_train \n",
        "      + batikcendrawasih_len_train + batikdayak_len_train + batikgeblekrenteng_len_train + batikikatcelup_len_train\n",
        "      + batikinsang_len_train + batikkawung_len_train + batiklasem_len_train + batikmegamendung_len_train\n",
        "      + batikpala_len_train + batikparang_len_train + batikpoleng_len_train + batiksekarjagad_len_train\n",
        "      + batiktambal_len_train)\n",
        "\n",
        "print(\"jumlah dataset validasi : \", batikbali_len_val + batikbetawi_len_val \n",
        "      + batikcendrawasih_len_val + batikdayak_len_val + batikgeblekrenteng_len_val + batikikatcelup_len_val\n",
        "      + batikinsang_len_val + batikkawung_len_val + batiklasem_len_val + batikmegamendung_len_val\n",
        "      + batikpala_len_val + batikparang_len_val + batikpoleng_len_val + batiksekarjagad_len_val\n",
        "      + batiktambal_len_val)\n",
        "\n",
        "print(\"\\n\\n\")\n",
        "\n",
        "print(\"jumlah train kelas Batik Bali : \", batikbali_len_train)\n",
        "print(\"jumlah train kelas Batik Betawi : \", batikbetawi_len_train)\n",
        "print(\"jumlah train kelas Batik Cendrawasih : \", batikcendrawasih_len_train)\n",
        "print(\"jumlah train kelas Batik Dayak : \", batikdayak_len_train)\n",
        "print(\"jumlah train kelas Batik Geblek Renteng : \", batikgeblekrenteng_len_train)\n",
        "print(\"jumlah train kelas Batik Ikat Celup : \", batikikatcelup_len_train)\n",
        "print(\"jumlah train kelas Batik Insang : \", batikinsang_len_train)\n",
        "print(\"jumlah train kelas Batik Kawung : \", batikkawung_len_train)\n",
        "print(\"jumlah train kelas Batik Lasem : \", batiklasem_len_train)\n",
        "print(\"jumlah train kelas Batik Megamendung : \", batikmegamendung_len_train)\n",
        "print(\"jumlah train kelas Batik Pala : \", batikpala_len_train)\n",
        "print(\"jumlah train kelas Batik Parang : \", batikparang_len_train)\n",
        "print(\"jumlah train kelas Batik Poleng : \", batikpoleng_len_train)\n",
        "print(\"jumlah train kelas Batik Sekarjagad : \", batiksekarjagad_len_train)\n",
        "print(\"jumlah train kelas Batik Tambal : \", batiktambal_len_train)\n",
        "\n",
        "print(\"jumlah train kelas Batik Bali : \", batikbali_len_val)\n",
        "print(\"jumlah train kelas Batik Betawi : \", batikbetawi_len_val)\n",
        "print(\"jumlah train kelas Batik Cendrawasih : \", batikcendrawasih_len_val)\n",
        "print(\"jumlah train kelas Batik Dayak : \", batikdayak_len_val)\n",
        "print(\"jumlah train kelas Batik Geblek Renteng : \", batikgeblekrenteng_len_val)\n",
        "print(\"jumlah train kelas Batik Ikat Celup : \", batikikatcelup_len_val)\n",
        "print(\"jumlah train kelas Batik Insang : \", batikinsang_len_val)\n",
        "print(\"jumlah train kelas Batik Kawung : \", batikkawung_len_val)\n",
        "print(\"jumlah train kelas Batik Lasem : \", batiklasem_len_val)\n",
        "print(\"jumlah train kelas Batik Megamendung : \", batikmegamendung_len_val)\n",
        "print(\"jumlah train kelas Batik Pala : \", batikpala_len_val)\n",
        "print(\"jumlah train kelas Batik Parang : \", batikparang_len_val)\n",
        "print(\"jumlah train kelas Batik Poleng : \", batikpoleng_len_val)\n",
        "print(\"jumlah train kelas Batik Sekarjagad : \", batiksekarjagad_len_val)\n",
        "print(\"jumlah train kelas Batik Tambal : \", batiktambal_len_val)"
      ],
      "metadata": {
        "colab": {
          "base_uri": "https://localhost:8080/"
        },
        "id": "kxFYJ7JfFryj",
        "outputId": "aa1782b9-1545-44b8-bd41-f1c5b83b3139"
      },
      "execution_count": 87,
      "outputs": [
        {
          "output_type": "stream",
          "name": "stdout",
          "text": [
            "jumlah dataset Training :  1050\n",
            "jumlah dataset validasi :  300\n",
            "\n",
            "\n",
            "\n",
            "jumlah train kelas Batik Bali :  70\n",
            "jumlah train kelas Batik Betawi :  70\n",
            "jumlah train kelas Batik Cendrawasih :  70\n",
            "jumlah train kelas Batik Dayak :  70\n",
            "jumlah train kelas Batik Geblek Renteng :  70\n",
            "jumlah train kelas Batik Ikat Celup :  70\n",
            "jumlah train kelas Batik Insang :  70\n",
            "jumlah train kelas Batik Kawung :  70\n",
            "jumlah train kelas Batik Lasem :  70\n",
            "jumlah train kelas Batik Megamendung :  70\n",
            "jumlah train kelas Batik Pala :  70\n",
            "jumlah train kelas Batik Parang :  70\n",
            "jumlah train kelas Batik Poleng :  70\n",
            "jumlah train kelas Batik Sekarjagad :  70\n",
            "jumlah train kelas Batik Tambal :  70\n",
            "jumlah train kelas Batik Bali :  20\n",
            "jumlah train kelas Batik Betawi :  20\n",
            "jumlah train kelas Batik Cendrawasih :  20\n",
            "jumlah train kelas Batik Dayak :  20\n",
            "jumlah train kelas Batik Geblek Renteng :  20\n",
            "jumlah train kelas Batik Ikat Celup :  20\n",
            "jumlah train kelas Batik Insang :  20\n",
            "jumlah train kelas Batik Kawung :  20\n",
            "jumlah train kelas Batik Lasem :  20\n",
            "jumlah train kelas Batik Megamendung :  20\n",
            "jumlah train kelas Batik Pala :  20\n",
            "jumlah train kelas Batik Parang :  20\n",
            "jumlah train kelas Batik Poleng :  20\n",
            "jumlah train kelas Batik Sekarjagad :  20\n",
            "jumlah train kelas Batik Tambal :  20\n"
          ]
        }
      ]
    },
    {
      "cell_type": "code",
      "source": [
        "import tensorflow as tf\n",
        "from tensorflow.keras.optimizers import Adam\n",
        "from tensorflow.keras.preprocessing.image import ImageDataGenerator\n"
      ],
      "metadata": {
        "id": "00Ykj50pE6XU"
      },
      "execution_count": 88,
      "outputs": []
    },
    {
      "cell_type": "markdown",
      "source": [
        "Augmentasi Dasar"
      ],
      "metadata": {
        "id": "MCbi4m8dXh-I"
      }
    },
    {
      "cell_type": "code",
      "source": [
        "train_datagen = ImageDataGenerator(\n",
        "      rescale=1./255,\n",
        "      rotation_range=40,\n",
        "      width_shift_range=0.2,\n",
        "      height_shift_range=0.2,\n",
        "      shear_range=0.2,\n",
        "      zoom_range=0.2,\n",
        "      horizontal_flip=True,\n",
        "      fill_mode='nearest')\n",
        "\n",
        "test_datagen = ImageDataGenerator(rescale=1./255)\n",
        "\n",
        "train_generator = train_datagen.flow_from_directory(\n",
        "        train_dir,\n",
        "        target_size=(224, 224),\n",
        "        batch_size=20,\n",
        "        class_mode='categorical')\n",
        "\n",
        "validation_generator = test_datagen.flow_from_directory(\n",
        "        val_dir,\n",
        "        target_size=(224, 224),\n",
        "        batch_size=20,\n",
        "        class_mode='categorical')\n"
      ],
      "metadata": {
        "id": "DXKlSdeiV4GG",
        "colab": {
          "base_uri": "https://localhost:8080/"
        },
        "outputId": "fcdd4344-8eb5-4fb3-a9f7-0e6193c05b41"
      },
      "execution_count": 89,
      "outputs": [
        {
          "output_type": "stream",
          "name": "stdout",
          "text": [
            "Found 1050 images belonging to 15 classes.\n",
            "Found 300 images belonging to 15 classes.\n"
          ]
        }
      ]
    },
    {
      "cell_type": "markdown",
      "source": [
        "Augmentasi Model and Fit Model"
      ],
      "metadata": {
        "id": "HVuQ2NVEV_fq"
      }
    },
    {
      "cell_type": "code",
      "source": [
        "'''\n",
        "Import Library yang dibutuhkan\n",
        "'''\n",
        "\n",
        "from tensorflow.keras.models import Sequential\n",
        "from tensorflow.keras.layers import InputLayer, Dense, Flatten,Dropout, BatchNormalization\n",
        "import tensorflow as tf\n",
        "from tensorflow.keras.models import Model\n",
        "from tensorflow.keras.optimizers import Adam\n",
        "from tensorflow.keras.callbacks import EarlyStopping, ModelCheckpoint"
      ],
      "metadata": {
        "id": "s8RfSN0EWBSq"
      },
      "execution_count": 90,
      "outputs": []
    },
    {
      "cell_type": "code",
      "source": [
        "'''\n",
        "definisikan dan setting callback untuk :\n",
        "1. memantau performa model\n",
        "2. melakukan save model terbaik menggunakan model checkpoint\n",
        "3. memberhentikan pelatihan ketika tidak memnuhi syarat dalam parameter earlystopping\n",
        "'''\n",
        "\n",
        "callbacks = EarlyStopping(monitor='val_loss', patience=15, verbose=1, mode='auto')        \n",
        "directory_to_save_best_model_file = '/content/drive/MyDrive/Colab Notebooks/model_drop_batch_weight_from_callback_2.h5'\n",
        "best_model = ModelCheckpoint(directory_to_save_best_model_file, monitor='val_accuracy', verbose = 1, save_best_only = True)"
      ],
      "metadata": {
        "id": "u5ePw1UpWJR0"
      },
      "execution_count": 91,
      "outputs": []
    },
    {
      "cell_type": "code",
      "source": [
        "\n",
        "\n",
        "VGG16_base = tf.keras.applications.VGG16(include_top=False, weights='imagenet', #include_top = false , berarti fully connected layer akan dipidah dari arsitektur\n",
        "                                                 input_tensor=None, input_shape=(224, 224,3))"
      ],
      "metadata": {
        "id": "9G4sEVzkWM5n"
      },
      "execution_count": 92,
      "outputs": []
    },
    {
      "cell_type": "code",
      "source": [
        "'''\n",
        "melakukan setting bahwa model pretrained tidak akan dilatih ulang\n",
        "'''\n",
        "\n",
        "VGG16_base.trainable = False"
      ],
      "metadata": {
        "id": "wonTeajXWXz1"
      },
      "execution_count": 93,
      "outputs": []
    },
    {
      "cell_type": "code",
      "source": [
        "'''\n",
        "mendefinisikan layer pada bagian fully connected layer\n",
        "'''\n",
        "\n",
        "print('Adding new layers')\n",
        "output = VGG16_base.get_layer(index = -1).output  \n",
        "output = Flatten()(output)\n",
        "output = Dense(256,activation = \"relu\")(output)\n",
        "output = BatchNormalization()(output)\n",
        "output = Dropout(0.5)(output)\n",
        "output = Dense(256,activation = \"relu\")(output)\n",
        "output = BatchNormalization()(output)\n",
        "output = Dropout(0.5)(output)\n",
        "output = Dense(15, activation='softmax')(output) \n",
        "print('New layers Finishing Added!!!!')"
      ],
      "metadata": {
        "id": "3oohNgxMWaH-",
        "colab": {
          "base_uri": "https://localhost:8080/"
        },
        "outputId": "9d5eeed9-8eb8-4167-df08-6c96a4e7cb48"
      },
      "execution_count": 94,
      "outputs": [
        {
          "output_type": "stream",
          "name": "stdout",
          "text": [
            "Adding new layers\n",
            "New layers Finishing Added!!!!\n"
          ]
        }
      ]
    },
    {
      "cell_type": "code",
      "source": [
        "VGG16_model = Model(VGG16_base.input, output)\n",
        "\n",
        "VGG16_model.summary()"
      ],
      "metadata": {
        "id": "7pbk_yQMWf8n",
        "colab": {
          "base_uri": "https://localhost:8080/"
        },
        "outputId": "f54a4df1-8433-4d34-c632-397cf44958ca"
      },
      "execution_count": 95,
      "outputs": [
        {
          "output_type": "stream",
          "name": "stdout",
          "text": [
            "Model: \"model_5\"\n",
            "_________________________________________________________________\n",
            " Layer (type)                Output Shape              Param #   \n",
            "=================================================================\n",
            " input_6 (InputLayer)        [(None, 224, 224, 3)]     0         \n",
            "                                                                 \n",
            " block1_conv1 (Conv2D)       (None, 224, 224, 64)      1792      \n",
            "                                                                 \n",
            " block1_conv2 (Conv2D)       (None, 224, 224, 64)      36928     \n",
            "                                                                 \n",
            " block1_pool (MaxPooling2D)  (None, 112, 112, 64)      0         \n",
            "                                                                 \n",
            " block2_conv1 (Conv2D)       (None, 112, 112, 128)     73856     \n",
            "                                                                 \n",
            " block2_conv2 (Conv2D)       (None, 112, 112, 128)     147584    \n",
            "                                                                 \n",
            " block2_pool (MaxPooling2D)  (None, 56, 56, 128)       0         \n",
            "                                                                 \n",
            " block3_conv1 (Conv2D)       (None, 56, 56, 256)       295168    \n",
            "                                                                 \n",
            " block3_conv2 (Conv2D)       (None, 56, 56, 256)       590080    \n",
            "                                                                 \n",
            " block3_conv3 (Conv2D)       (None, 56, 56, 256)       590080    \n",
            "                                                                 \n",
            " block3_pool (MaxPooling2D)  (None, 28, 28, 256)       0         \n",
            "                                                                 \n",
            " block4_conv1 (Conv2D)       (None, 28, 28, 512)       1180160   \n",
            "                                                                 \n",
            " block4_conv2 (Conv2D)       (None, 28, 28, 512)       2359808   \n",
            "                                                                 \n",
            " block4_conv3 (Conv2D)       (None, 28, 28, 512)       2359808   \n",
            "                                                                 \n",
            " block4_pool (MaxPooling2D)  (None, 14, 14, 512)       0         \n",
            "                                                                 \n",
            " block5_conv1 (Conv2D)       (None, 14, 14, 512)       2359808   \n",
            "                                                                 \n",
            " block5_conv2 (Conv2D)       (None, 14, 14, 512)       2359808   \n",
            "                                                                 \n",
            " block5_conv3 (Conv2D)       (None, 14, 14, 512)       2359808   \n",
            "                                                                 \n",
            " block5_pool (MaxPooling2D)  (None, 7, 7, 512)         0         \n",
            "                                                                 \n",
            " flatten_5 (Flatten)         (None, 25088)             0         \n",
            "                                                                 \n",
            " dense_15 (Dense)            (None, 256)               6422784   \n",
            "                                                                 \n",
            " batch_normalization_10 (Bat  (None, 256)              1024      \n",
            " chNormalization)                                                \n",
            "                                                                 \n",
            " dropout_10 (Dropout)        (None, 256)               0         \n",
            "                                                                 \n",
            " dense_16 (Dense)            (None, 256)               65792     \n",
            "                                                                 \n",
            " batch_normalization_11 (Bat  (None, 256)              1024      \n",
            " chNormalization)                                                \n",
            "                                                                 \n",
            " dropout_11 (Dropout)        (None, 256)               0         \n",
            "                                                                 \n",
            " dense_17 (Dense)            (None, 15)                3855      \n",
            "                                                                 \n",
            "=================================================================\n",
            "Total params: 21,209,167\n",
            "Trainable params: 6,493,455\n",
            "Non-trainable params: 14,715,712\n",
            "_________________________________________________________________\n"
          ]
        }
      ]
    },
    {
      "cell_type": "code",
      "source": [
        "VGG16_model.compile(optimizer=tf.keras.optimizers.Adam(learning_rate=0.0001), loss='categorical_crossentropy', \n",
        "                        metrics =['accuracy'])"
      ],
      "metadata": {
        "id": "9NRZg6HHWj_7"
      },
      "execution_count": 96,
      "outputs": []
    },
    {
      "cell_type": "code",
      "source": [
        "history = VGG16_model.fit(\n",
        "      train_generator,\n",
        "      steps_per_epoch=52,  # images = batch_size * steps\n",
        "      epochs=100,\n",
        "      validation_data=validation_generator,\n",
        "      validation_steps=15,  #  images = batch_size * steps\n",
        "      callbacks = [callbacks, best_model])"
      ],
      "metadata": {
        "id": "QfxwJpU-WnNs",
        "colab": {
          "base_uri": "https://localhost:8080/"
        },
        "outputId": "513268ba-7888-4a99-95f6-d60e33df579c"
      },
      "execution_count": 97,
      "outputs": [
        {
          "output_type": "stream",
          "name": "stdout",
          "text": [
            "Epoch 1/100\n",
            "52/52 [==============================] - ETA: 0s - loss: 3.7180 - accuracy: 0.1126\n",
            "Epoch 00001: val_accuracy improved from -inf to 0.20000, saving model to /content/drive/MyDrive/Colab Notebooks/model_drop_batch_weight_from_callback_2.h5\n",
            "52/52 [==============================] - 23s 411ms/step - loss: 3.7180 - accuracy: 0.1126 - val_loss: 2.4954 - val_accuracy: 0.2000\n",
            "Epoch 2/100\n",
            "52/52 [==============================] - ETA: 0s - loss: 3.0112 - accuracy: 0.2117\n",
            "Epoch 00002: val_accuracy improved from 0.20000 to 0.33000, saving model to /content/drive/MyDrive/Colab Notebooks/model_drop_batch_weight_from_callback_2.h5\n",
            "52/52 [==============================] - 21s 404ms/step - loss: 3.0112 - accuracy: 0.2117 - val_loss: 2.1283 - val_accuracy: 0.3300\n",
            "Epoch 3/100\n",
            "52/52 [==============================] - ETA: 0s - loss: 2.6698 - accuracy: 0.2534\n",
            "Epoch 00003: val_accuracy improved from 0.33000 to 0.45333, saving model to /content/drive/MyDrive/Colab Notebooks/model_drop_batch_weight_from_callback_2.h5\n",
            "52/52 [==============================] - 21s 401ms/step - loss: 2.6698 - accuracy: 0.2534 - val_loss: 1.8094 - val_accuracy: 0.4533\n",
            "Epoch 4/100\n",
            "52/52 [==============================] - ETA: 0s - loss: 2.3268 - accuracy: 0.3311\n",
            "Epoch 00004: val_accuracy improved from 0.45333 to 0.46333, saving model to /content/drive/MyDrive/Colab Notebooks/model_drop_batch_weight_from_callback_2.h5\n",
            "52/52 [==============================] - 21s 401ms/step - loss: 2.3268 - accuracy: 0.3311 - val_loss: 1.7678 - val_accuracy: 0.4633\n",
            "Epoch 5/100\n",
            "52/52 [==============================] - ETA: 0s - loss: 2.2353 - accuracy: 0.3660\n",
            "Epoch 00005: val_accuracy improved from 0.46333 to 0.51667, saving model to /content/drive/MyDrive/Colab Notebooks/model_drop_batch_weight_from_callback_2.h5\n",
            "52/52 [==============================] - 21s 402ms/step - loss: 2.2353 - accuracy: 0.3660 - val_loss: 1.5422 - val_accuracy: 0.5167\n",
            "Epoch 6/100\n",
            "52/52 [==============================] - ETA: 0s - loss: 2.0810 - accuracy: 0.3883\n",
            "Epoch 00006: val_accuracy improved from 0.51667 to 0.53000, saving model to /content/drive/MyDrive/Colab Notebooks/model_drop_batch_weight_from_callback_2.h5\n",
            "52/52 [==============================] - 21s 402ms/step - loss: 2.0810 - accuracy: 0.3883 - val_loss: 1.5071 - val_accuracy: 0.5300\n",
            "Epoch 7/100\n",
            "52/52 [==============================] - ETA: 0s - loss: 2.0321 - accuracy: 0.3981\n",
            "Epoch 00007: val_accuracy improved from 0.53000 to 0.54667, saving model to /content/drive/MyDrive/Colab Notebooks/model_drop_batch_weight_from_callback_2.h5\n",
            "52/52 [==============================] - 21s 400ms/step - loss: 2.0321 - accuracy: 0.3981 - val_loss: 1.4858 - val_accuracy: 0.5467\n",
            "Epoch 8/100\n",
            "52/52 [==============================] - ETA: 0s - loss: 2.0139 - accuracy: 0.4029\n",
            "Epoch 00008: val_accuracy improved from 0.54667 to 0.55333, saving model to /content/drive/MyDrive/Colab Notebooks/model_drop_batch_weight_from_callback_2.h5\n",
            "52/52 [==============================] - 21s 404ms/step - loss: 2.0139 - accuracy: 0.4029 - val_loss: 1.4514 - val_accuracy: 0.5533\n",
            "Epoch 9/100\n",
            "52/52 [==============================] - ETA: 0s - loss: 1.9326 - accuracy: 0.4485\n",
            "Epoch 00009: val_accuracy improved from 0.55333 to 0.58000, saving model to /content/drive/MyDrive/Colab Notebooks/model_drop_batch_weight_from_callback_2.h5\n",
            "52/52 [==============================] - 21s 401ms/step - loss: 1.9326 - accuracy: 0.4485 - val_loss: 1.3539 - val_accuracy: 0.5800\n",
            "Epoch 10/100\n",
            "52/52 [==============================] - ETA: 0s - loss: 1.8035 - accuracy: 0.4563\n",
            "Epoch 00010: val_accuracy improved from 0.58000 to 0.59000, saving model to /content/drive/MyDrive/Colab Notebooks/model_drop_batch_weight_from_callback_2.h5\n",
            "52/52 [==============================] - 21s 400ms/step - loss: 1.8035 - accuracy: 0.4563 - val_loss: 1.3594 - val_accuracy: 0.5900\n",
            "Epoch 11/100\n",
            "52/52 [==============================] - ETA: 0s - loss: 1.8412 - accuracy: 0.4534\n",
            "Epoch 00011: val_accuracy did not improve from 0.59000\n",
            "52/52 [==============================] - 21s 393ms/step - loss: 1.8412 - accuracy: 0.4534 - val_loss: 1.3688 - val_accuracy: 0.5833\n",
            "Epoch 12/100\n",
            "52/52 [==============================] - ETA: 0s - loss: 1.7267 - accuracy: 0.4767\n",
            "Epoch 00012: val_accuracy did not improve from 0.59000\n",
            "52/52 [==============================] - 21s 395ms/step - loss: 1.7267 - accuracy: 0.4767 - val_loss: 1.3816 - val_accuracy: 0.5833\n",
            "Epoch 13/100\n",
            "52/52 [==============================] - ETA: 0s - loss: 1.6900 - accuracy: 0.4971\n",
            "Epoch 00013: val_accuracy did not improve from 0.59000\n",
            "52/52 [==============================] - 21s 397ms/step - loss: 1.6900 - accuracy: 0.4971 - val_loss: 1.3534 - val_accuracy: 0.5867\n",
            "Epoch 14/100\n",
            "52/52 [==============================] - ETA: 0s - loss: 1.6680 - accuracy: 0.5087\n",
            "Epoch 00014: val_accuracy improved from 0.59000 to 0.62333, saving model to /content/drive/MyDrive/Colab Notebooks/model_drop_batch_weight_from_callback_2.h5\n",
            "52/52 [==============================] - 21s 405ms/step - loss: 1.6680 - accuracy: 0.5087 - val_loss: 1.2605 - val_accuracy: 0.6233\n",
            "Epoch 15/100\n",
            "52/52 [==============================] - ETA: 0s - loss: 1.6044 - accuracy: 0.5136\n",
            "Epoch 00015: val_accuracy did not improve from 0.62333\n",
            "52/52 [==============================] - 21s 394ms/step - loss: 1.6044 - accuracy: 0.5136 - val_loss: 1.2678 - val_accuracy: 0.6233\n",
            "Epoch 16/100\n",
            "52/52 [==============================] - ETA: 0s - loss: 1.6889 - accuracy: 0.4903\n",
            "Epoch 00016: val_accuracy improved from 0.62333 to 0.63000, saving model to /content/drive/MyDrive/Colab Notebooks/model_drop_batch_weight_from_callback_2.h5\n",
            "52/52 [==============================] - 21s 398ms/step - loss: 1.6889 - accuracy: 0.4903 - val_loss: 1.2906 - val_accuracy: 0.6300\n",
            "Epoch 17/100\n",
            "52/52 [==============================] - ETA: 0s - loss: 1.6375 - accuracy: 0.5117\n",
            "Epoch 00017: val_accuracy improved from 0.63000 to 0.64000, saving model to /content/drive/MyDrive/Colab Notebooks/model_drop_batch_weight_from_callback_2.h5\n",
            "52/52 [==============================] - 21s 396ms/step - loss: 1.6375 - accuracy: 0.5117 - val_loss: 1.2836 - val_accuracy: 0.6400\n",
            "Epoch 18/100\n",
            "52/52 [==============================] - ETA: 0s - loss: 1.5723 - accuracy: 0.5175\n",
            "Epoch 00018: val_accuracy did not improve from 0.64000\n",
            "52/52 [==============================] - 20s 389ms/step - loss: 1.5723 - accuracy: 0.5175 - val_loss: 1.3171 - val_accuracy: 0.6067\n",
            "Epoch 19/100\n",
            "52/52 [==============================] - ETA: 0s - loss: 1.4924 - accuracy: 0.5544\n",
            "Epoch 00019: val_accuracy did not improve from 0.64000\n",
            "52/52 [==============================] - 21s 397ms/step - loss: 1.4924 - accuracy: 0.5544 - val_loss: 1.3914 - val_accuracy: 0.6133\n",
            "Epoch 20/100\n",
            "52/52 [==============================] - ETA: 0s - loss: 1.3998 - accuracy: 0.5592\n",
            "Epoch 00020: val_accuracy did not improve from 0.64000\n",
            "52/52 [==============================] - 21s 404ms/step - loss: 1.3998 - accuracy: 0.5592 - val_loss: 1.3340 - val_accuracy: 0.6067\n",
            "Epoch 21/100\n",
            "52/52 [==============================] - ETA: 0s - loss: 1.4138 - accuracy: 0.5495\n",
            "Epoch 00021: val_accuracy did not improve from 0.64000\n",
            "52/52 [==============================] - 21s 402ms/step - loss: 1.4138 - accuracy: 0.5495 - val_loss: 1.2621 - val_accuracy: 0.6367\n",
            "Epoch 22/100\n",
            "52/52 [==============================] - ETA: 0s - loss: 1.3758 - accuracy: 0.5631\n",
            "Epoch 00022: val_accuracy did not improve from 0.64000\n",
            "52/52 [==============================] - 21s 401ms/step - loss: 1.3758 - accuracy: 0.5631 - val_loss: 1.2838 - val_accuracy: 0.6300\n",
            "Epoch 23/100\n",
            "52/52 [==============================] - ETA: 0s - loss: 1.4070 - accuracy: 0.5650\n",
            "Epoch 00023: val_accuracy did not improve from 0.64000\n",
            "52/52 [==============================] - 21s 401ms/step - loss: 1.4070 - accuracy: 0.5650 - val_loss: 1.2162 - val_accuracy: 0.6333\n",
            "Epoch 24/100\n",
            "52/52 [==============================] - ETA: 0s - loss: 1.3435 - accuracy: 0.5825\n",
            "Epoch 00024: val_accuracy did not improve from 0.64000\n",
            "52/52 [==============================] - 21s 402ms/step - loss: 1.3435 - accuracy: 0.5825 - val_loss: 1.2647 - val_accuracy: 0.6400\n",
            "Epoch 25/100\n",
            "52/52 [==============================] - ETA: 0s - loss: 1.3239 - accuracy: 0.5777\n",
            "Epoch 00025: val_accuracy did not improve from 0.64000\n",
            "52/52 [==============================] - 21s 403ms/step - loss: 1.3239 - accuracy: 0.5777 - val_loss: 1.1943 - val_accuracy: 0.6400\n",
            "Epoch 26/100\n",
            "52/52 [==============================] - ETA: 0s - loss: 1.2658 - accuracy: 0.6039\n",
            "Epoch 00026: val_accuracy improved from 0.64000 to 0.64333, saving model to /content/drive/MyDrive/Colab Notebooks/model_drop_batch_weight_from_callback_2.h5\n",
            "52/52 [==============================] - 22s 413ms/step - loss: 1.2658 - accuracy: 0.6039 - val_loss: 1.2061 - val_accuracy: 0.6433\n",
            "Epoch 27/100\n",
            "52/52 [==============================] - ETA: 0s - loss: 1.2657 - accuracy: 0.6000\n",
            "Epoch 00027: val_accuracy did not improve from 0.64333\n",
            "52/52 [==============================] - 21s 404ms/step - loss: 1.2657 - accuracy: 0.6000 - val_loss: 1.2134 - val_accuracy: 0.6400\n",
            "Epoch 28/100\n",
            "52/52 [==============================] - ETA: 0s - loss: 1.2712 - accuracy: 0.5951\n",
            "Epoch 00028: val_accuracy did not improve from 0.64333\n",
            "52/52 [==============================] - 21s 404ms/step - loss: 1.2712 - accuracy: 0.5951 - val_loss: 1.1995 - val_accuracy: 0.6433\n",
            "Epoch 29/100\n",
            "52/52 [==============================] - ETA: 0s - loss: 1.2164 - accuracy: 0.6117\n",
            "Epoch 00029: val_accuracy did not improve from 0.64333\n",
            "52/52 [==============================] - 21s 408ms/step - loss: 1.2164 - accuracy: 0.6117 - val_loss: 1.2127 - val_accuracy: 0.6267\n",
            "Epoch 30/100\n",
            "52/52 [==============================] - ETA: 0s - loss: 1.1828 - accuracy: 0.6350\n",
            "Epoch 00030: val_accuracy improved from 0.64333 to 0.67667, saving model to /content/drive/MyDrive/Colab Notebooks/model_drop_batch_weight_from_callback_2.h5\n",
            "52/52 [==============================] - 22s 414ms/step - loss: 1.1828 - accuracy: 0.6350 - val_loss: 1.1521 - val_accuracy: 0.6767\n",
            "Epoch 31/100\n",
            "52/52 [==============================] - ETA: 0s - loss: 1.2026 - accuracy: 0.6301\n",
            "Epoch 00031: val_accuracy did not improve from 0.67667\n",
            "52/52 [==============================] - 21s 408ms/step - loss: 1.2026 - accuracy: 0.6301 - val_loss: 1.1645 - val_accuracy: 0.6433\n",
            "Epoch 32/100\n",
            "52/52 [==============================] - ETA: 0s - loss: 1.1854 - accuracy: 0.6243\n",
            "Epoch 00032: val_accuracy did not improve from 0.67667\n",
            "52/52 [==============================] - 21s 407ms/step - loss: 1.1854 - accuracy: 0.6243 - val_loss: 1.1928 - val_accuracy: 0.6533\n",
            "Epoch 33/100\n",
            "52/52 [==============================] - ETA: 0s - loss: 1.2399 - accuracy: 0.6252\n",
            "Epoch 00033: val_accuracy did not improve from 0.67667\n",
            "52/52 [==============================] - 21s 405ms/step - loss: 1.2399 - accuracy: 0.6252 - val_loss: 1.1598 - val_accuracy: 0.6533\n",
            "Epoch 34/100\n",
            "52/52 [==============================] - ETA: 0s - loss: 1.1757 - accuracy: 0.6117\n",
            "Epoch 00034: val_accuracy did not improve from 0.67667\n",
            "52/52 [==============================] - 21s 406ms/step - loss: 1.1757 - accuracy: 0.6117 - val_loss: 1.1620 - val_accuracy: 0.6567\n",
            "Epoch 35/100\n",
            "52/52 [==============================] - ETA: 0s - loss: 1.1268 - accuracy: 0.6398\n",
            "Epoch 00035: val_accuracy improved from 0.67667 to 0.68000, saving model to /content/drive/MyDrive/Colab Notebooks/model_drop_batch_weight_from_callback_2.h5\n",
            "52/52 [==============================] - 22s 413ms/step - loss: 1.1268 - accuracy: 0.6398 - val_loss: 1.1885 - val_accuracy: 0.6800\n",
            "Epoch 36/100\n",
            "52/52 [==============================] - ETA: 0s - loss: 1.0681 - accuracy: 0.6524\n",
            "Epoch 00036: val_accuracy did not improve from 0.68000\n",
            "52/52 [==============================] - 21s 407ms/step - loss: 1.0681 - accuracy: 0.6524 - val_loss: 1.1729 - val_accuracy: 0.6533\n",
            "Epoch 37/100\n",
            "52/52 [==============================] - ETA: 0s - loss: 1.1675 - accuracy: 0.6291\n",
            "Epoch 00037: val_accuracy did not improve from 0.68000\n",
            "52/52 [==============================] - 21s 404ms/step - loss: 1.1675 - accuracy: 0.6291 - val_loss: 1.1796 - val_accuracy: 0.6500\n",
            "Epoch 38/100\n",
            "52/52 [==============================] - ETA: 0s - loss: 1.0724 - accuracy: 0.6641\n",
            "Epoch 00038: val_accuracy did not improve from 0.68000\n",
            "52/52 [==============================] - 21s 404ms/step - loss: 1.0724 - accuracy: 0.6641 - val_loss: 1.1856 - val_accuracy: 0.6667\n",
            "Epoch 39/100\n",
            "52/52 [==============================] - ETA: 0s - loss: 1.0832 - accuracy: 0.6427\n",
            "Epoch 00039: val_accuracy did not improve from 0.68000\n",
            "52/52 [==============================] - 21s 407ms/step - loss: 1.0832 - accuracy: 0.6427 - val_loss: 1.1885 - val_accuracy: 0.6500\n",
            "Epoch 40/100\n",
            "52/52 [==============================] - ETA: 0s - loss: 1.0713 - accuracy: 0.6748\n",
            "Epoch 00040: val_accuracy did not improve from 0.68000\n",
            "52/52 [==============================] - 21s 404ms/step - loss: 1.0713 - accuracy: 0.6748 - val_loss: 1.1723 - val_accuracy: 0.6567\n",
            "Epoch 41/100\n",
            "52/52 [==============================] - ETA: 0s - loss: 1.1395 - accuracy: 0.6272\n",
            "Epoch 00041: val_accuracy did not improve from 0.68000\n",
            "52/52 [==============================] - 21s 403ms/step - loss: 1.1395 - accuracy: 0.6272 - val_loss: 1.1707 - val_accuracy: 0.6433\n",
            "Epoch 42/100\n",
            "52/52 [==============================] - ETA: 0s - loss: 1.0476 - accuracy: 0.6767\n",
            "Epoch 00042: val_accuracy did not improve from 0.68000\n",
            "52/52 [==============================] - 20s 392ms/step - loss: 1.0476 - accuracy: 0.6767 - val_loss: 1.1705 - val_accuracy: 0.6600\n",
            "Epoch 43/100\n",
            "52/52 [==============================] - ETA: 0s - loss: 0.9674 - accuracy: 0.6932\n",
            "Epoch 00043: val_accuracy did not improve from 0.68000\n",
            "52/52 [==============================] - 21s 392ms/step - loss: 0.9674 - accuracy: 0.6932 - val_loss: 1.1941 - val_accuracy: 0.6600\n",
            "Epoch 44/100\n",
            "52/52 [==============================] - ETA: 0s - loss: 0.9894 - accuracy: 0.6883\n",
            "Epoch 00044: val_accuracy did not improve from 0.68000\n",
            "52/52 [==============================] - 20s 392ms/step - loss: 0.9894 - accuracy: 0.6883 - val_loss: 1.1840 - val_accuracy: 0.6433\n",
            "Epoch 45/100\n",
            "52/52 [==============================] - ETA: 0s - loss: 1.0416 - accuracy: 0.6718\n",
            "Epoch 00045: val_accuracy did not improve from 0.68000\n",
            "52/52 [==============================] - 20s 392ms/step - loss: 1.0416 - accuracy: 0.6718 - val_loss: 1.1916 - val_accuracy: 0.6533\n",
            "Epoch 00045: early stopping\n"
          ]
        }
      ]
    },
    {
      "cell_type": "markdown",
      "source": [
        "**MODEL EVALUATION**"
      ],
      "metadata": {
        "id": "3SiPCziLWusi"
      }
    },
    {
      "cell_type": "code",
      "source": [
        "import matplotlib.pyplot as plt\n",
        "acc = history.history['accuracy']\n",
        "val_acc = history.history['val_accuracy']\n",
        "loss = history.history['loss']\n",
        "val_loss = history.history['val_loss']\n",
        "\n",
        "epochs = range(len(acc))\n",
        "\n",
        "plt.plot(epochs, acc, 'bo', label='Training accuracy')\n",
        "plt.plot(epochs, val_acc, 'b', label='Validation accuracy')\n",
        "plt.title('Training and validation accuracy')\n",
        "\n",
        "plt.figure()\n",
        "\n",
        "plt.plot(epochs, loss, 'bo', label='Training Loss')\n",
        "plt.plot(epochs, val_loss, 'b', label='Validation Loss')\n",
        "plt.title('Training and validation loss')\n",
        "plt.legend()\n",
        "\n",
        "plt.show()"
      ],
      "metadata": {
        "id": "c8QH-Z-IW4h9",
        "colab": {
          "base_uri": "https://localhost:8080/",
          "height": 551
        },
        "outputId": "1487651e-3c8c-44c8-bfd0-141342bdc343"
      },
      "execution_count": 98,
      "outputs": [
        {
          "output_type": "display_data",
          "data": {
            "image/png": "[encoded data removed]",
            "text/plain": [
              "<Figure size 432x288 with 1 Axes>"
            ]
          },
          "metadata": {}
        },
        {
          "output_type": "display_data",
          "data": {
            "image/png": "[encoded data removed]",
            "text/plain": [
              "<Figure size 432x288 with 1 Axes>"
            ]
          },
          "metadata": {}
        }
      ]
    },
    {
      "cell_type": "code",
      "source": [
        "# import some of library that we need to look the confusion matrix, recall, f1_score, and accuracy score to look how much your model is well\n",
        "import numpy as np \n",
        "from keras.preprocessing.image import ImageDataGenerator\n",
        "import matplotlib.pyplot as plt\n",
        "from sklearn.metrics import f1_score, recall_score, accuracy_score\n",
        "from sklearn.metrics import precision_score, confusion_matrix, classification_report\n",
        "from sklearn import metrics\n",
        "\n",
        "import seaborn as sns\n",
        "sns.set(style='whitegrid')"
      ],
      "metadata": {
        "id": "RO-3y88RW7o-"
      },
      "execution_count": 99,
      "outputs": []
    },
    {
      "cell_type": "code",
      "source": [
        "# loading model to evaluate more depth\n",
        "from keras.models import load_model\n",
        "model_path = '/content/drive/MyDrive/Colab Notebooks/model_drop_batch_weight_from_callback_2.h5'\n",
        "model = load_model(model_path)"
      ],
      "metadata": {
        "id": "BhuzHvKIW9bY"
      },
      "execution_count": 100,
      "outputs": []
    },
    {
      "cell_type": "code",
      "source": [
        "def my_metrics(y_true, y_pred):\n",
        "    accuracy=accuracy_score(y_true, y_pred)\n",
        "    precision=precision_score(y_true, y_pred,average='weighted')\n",
        "    f1Score=f1_score(y_true, y_pred, average='weighted') \n",
        "    print(\"Accuracy  : {}\".format(accuracy))\n",
        "    print(\"Precision : {}\".format(precision))\n",
        "    print(\"f1Score : {}\".format(f1Score))\n",
        "    cm=confusion_matrix(y_true, y_pred)\n",
        "    print(cm)\n",
        "    return accuracy, precision, f1Score\n",
        "\n",
        "height=224; width=224\n",
        "batch_size=20\n",
        "\n",
        "test_datagen = ImageDataGenerator(rescale=1./255)\n",
        "\n",
        "TESTING_DIR = '/tmp/Dataset/Validation'\n",
        "\n",
        "test_generator = test_datagen.flow_from_directory(TESTING_DIR,\n",
        "                                                  batch_size=batch_size,                                                             \n",
        "                                                  target_size=(height, width),\n",
        "                                                  class_mode= None,\n",
        "                                                  shuffle=False\n",
        "                                                  )\n",
        "\n",
        "predictions = model.predict(test_generator, verbose=1)\n",
        "yPredictions = np.argmax(predictions, axis=1)\n",
        "true_classes = test_generator.classes\n",
        "class_names = test_generator.class_indices\n",
        "Cmatrix_test = confusion_matrix(true_classes, yPredictions)\n",
        "\n",
        "testAcc,testPrec, testFScore = my_metrics(true_classes, yPredictions)\n",
        "\n",
        "plt.figure(figsize=(20,20))\n",
        "ax= plt.subplot()\n",
        "data = np.asarray(Cmatrix_test).reshape(15,15)\n",
        "sns.heatmap(data,annot=True, fmt='',ax=ax, cmap=plt.cm.Reds)\n",
        "ax.set_xlabel('Predicted labels')\n",
        "ax.set_ylabel('True labels') \n",
        "ax.set_title('Confusion Matrix')\n",
        "ax.xaxis.set_ticklabels(class_names)   \n",
        "ax.yaxis.set_ticklabels(class_names)\n",
        "plt.title('Confusion Matrix Test',fontsize=14)\n",
        "plt.show()"
      ],
      "metadata": {
        "id": "o0uW64wUW_HA",
        "colab": {
          "base_uri": "https://localhost:8080/",
          "height": 1000
        },
        "outputId": "9d282e86-8161-43e6-b14b-c412be0efd2f"
      },
      "execution_count": 101,
      "outputs": [
        {
          "output_type": "stream",
          "name": "stdout",
          "text": [
            "Found 300 images belonging to 15 classes.\n",
            "15/15 [==============================] - 3s 212ms/step\n",
            "Accuracy  : 0.68\n",
            "Precision : 0.6998862849417861\n",
            "f1Score : 0.6740386210064763\n",
            "[[12  0  1  3  0  0  0  0  1  0  2  0  0  1  0]\n",
            " [ 0 12  0  3  0  0  2  0  0  0  3  0  0  0  0]\n",
            " [ 2  0 10  5  0  0  0  1  1  0  0  0  0  1  0]\n",
            " [ 0  0  0 18  1  0  0  0  0  0  1  0  0  0  0]\n",
            " [ 0  3  0  3  7  1  2  0  1  0  2  0  0  1  0]\n",
            " [ 1  0  0  0  0 17  0  0  0  0  0  0  0  1  1]\n",
            " [ 0  1  0  1  0  0 18  0  0  0  0  0  0  0  0]\n",
            " [ 0  0  0  2  0  0  1 15  0  0  0  0  0  1  1]\n",
            " [ 2  2  2  2  1  0  0  0  4  0  2  0  0  4  1]\n",
            " [ 0  0  0  1  0  0  0  0  0 19  0  0  0  0  0]\n",
            " [ 1  3  2  2  2  1  0  0  0  0  9  0  0  0  0]\n",
            " [ 0  0  0  0  0  0  2  0  0  1  0 16  0  1  0]\n",
            " [ 0  0  0  0  0  0  0  0  0  0  0  0 19  0  1]\n",
            " [ 1  0  0  0  0  1  0  1  1  0  2  0  0 13  1]\n",
            " [ 0  0  0  1  0  0  1  0  0  0  0  0  0  3 15]]\n"
          ]
        },
        {
          "output_type": "error",
          "ename": "ValueError",
          "evalue": "ignored",
          "traceback": [
            "\u001b[0;31m---------------------------------------------------------------------------\u001b[0m",
            "\u001b[0;31mValueError\u001b[0m                                Traceback (most recent call last)",
            "\u001b[0;32m<ipython-input-101-06f3ef97c7f8>\u001b[0m in \u001b[0;36m<module>\u001b[0;34m()\u001b[0m\n\u001b[1;32m     34\u001b[0m \u001b[0mplt\u001b[0m\u001b[0;34m.\u001b[0m\u001b[0mfigure\u001b[0m\u001b[0;34m(\u001b[0m\u001b[0mfigsize\u001b[0m\u001b[0;34m=\u001b[0m\u001b[0;34m(\u001b[0m\u001b[0;36m20\u001b[0m\u001b[0;34m,\u001b[0m\u001b[0;36m20\u001b[0m\u001b[0;34m)\u001b[0m\u001b[0;34m)\u001b[0m\u001b[0;34m\u001b[0m\u001b[0;34m\u001b[0m\u001b[0m\n\u001b[1;32m     35\u001b[0m \u001b[0max\u001b[0m\u001b[0;34m=\u001b[0m \u001b[0mplt\u001b[0m\u001b[0;34m.\u001b[0m\u001b[0msubplot\u001b[0m\u001b[0;34m(\u001b[0m\u001b[0;34m)\u001b[0m\u001b[0;34m\u001b[0m\u001b[0;34m\u001b[0m\u001b[0m\n\u001b[0;32m---> 36\u001b[0;31m \u001b[0mdata\u001b[0m \u001b[0;34m=\u001b[0m \u001b[0mnp\u001b[0m\u001b[0;34m.\u001b[0m\u001b[0masarray\u001b[0m\u001b[0;34m(\u001b[0m\u001b[0mCmatrix_test\u001b[0m\u001b[0;34m)\u001b[0m\u001b[0;34m.\u001b[0m\u001b[0mreshape\u001b[0m\u001b[0;34m(\u001b[0m\u001b[0;36m4\u001b[0m\u001b[0;34m,\u001b[0m\u001b[0;36m4\u001b[0m\u001b[0;34m)\u001b[0m\u001b[0;34m\u001b[0m\u001b[0;34m\u001b[0m\u001b[0m\n\u001b[0m\u001b[1;32m     37\u001b[0m \u001b[0msns\u001b[0m\u001b[0;34m.\u001b[0m\u001b[0mheatmap\u001b[0m\u001b[0;34m(\u001b[0m\u001b[0mdata\u001b[0m\u001b[0;34m,\u001b[0m\u001b[0mannot\u001b[0m\u001b[0;34m=\u001b[0m\u001b[0;32mTrue\u001b[0m\u001b[0;34m,\u001b[0m \u001b[0mfmt\u001b[0m\u001b[0;34m=\u001b[0m\u001b[0;34m''\u001b[0m\u001b[0;34m,\u001b[0m\u001b[0max\u001b[0m\u001b[0;34m=\u001b[0m\u001b[0max\u001b[0m\u001b[0;34m,\u001b[0m \u001b[0mcmap\u001b[0m\u001b[0;34m=\u001b[0m\u001b[0mplt\u001b[0m\u001b[0;34m.\u001b[0m\u001b[0mcm\u001b[0m\u001b[0;34m.\u001b[0m\u001b[0mReds\u001b[0m\u001b[0;34m)\u001b[0m\u001b[0;34m\u001b[0m\u001b[0;34m\u001b[0m\u001b[0m\n\u001b[1;32m     38\u001b[0m \u001b[0max\u001b[0m\u001b[0;34m.\u001b[0m\u001b[0mset_xlabel\u001b[0m\u001b[0;34m(\u001b[0m\u001b[0;34m'Predicted labels'\u001b[0m\u001b[0;34m)\u001b[0m\u001b[0;34m\u001b[0m\u001b[0;34m\u001b[0m\u001b[0m\n",
            "\u001b[0;31mValueError\u001b[0m: cannot reshape array of size 225 into shape (4,4)"
          ]
        },
        {
          "output_type": "display_data",
          "data": {
            "image/png": "[encoded data removed]",
            "text/plain": [
              "<Figure size 1440x1440 with 1 Axes>"
            ]
          },
          "metadata": {}
        }
      ]
    },
    {
      "cell_type": "code",
      "source": [
        "from sklearn.metrics import classification_report\n",
        "print(classification_report(true_classes, yPredictions, target_names=class_names))"
      ],
      "metadata": {
        "id": "LNGUToU_XDj0"
      },
      "execution_count": null,
      "outputs": []
    }
  ]
}